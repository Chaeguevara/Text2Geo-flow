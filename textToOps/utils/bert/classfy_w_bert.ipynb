{
 "cells": [
  {
   "cell_type": "code",
   "execution_count": 116,
   "metadata": {},
   "outputs": [],
   "source": [
    "import numpy as np\n",
    "import pandas as pd\n",
    "from sklearn.model_selection import train_test_split\n",
    "from sklearn.linear_model import LogisticRegression\n",
    "from sklearn.model_selection import GridSearchCV\n",
    "from sklearn.model_selection import cross_val_score\n",
    "import torch\n",
    "import transformers as ppb\n",
    "from transformers import AutoModel, AutoTokenizer\n",
    "import warnings\n",
    "warnings.filterwarnings('ignore')"
   ]
  },
  {
   "cell_type": "code",
   "execution_count": 117,
   "metadata": {},
   "outputs": [],
   "source": [
    "import seaborn as sns\n",
    "import matplotlib.pyplot as plt\n",
    "\n",
    "import plotly\n",
    "import plotly.express as px\n",
    "%matplotlib inline"
   ]
  },
  {
   "cell_type": "code",
   "execution_count": 118,
   "metadata": {},
   "outputs": [],
   "source": [
    "train_raw_df = pd.read_csv(\"../../data/input/hugging_face/train_raw.csv\")\n",
    "train_raw_df = train_raw_df.sample(frac=1, random_state=4)\n",
    "\n",
    "\n",
    "test_df = pd.read_csv(\"../../data/input/hugging_face/test.csv\")\n"
   ]
  },
  {
   "cell_type": "code",
   "execution_count": 119,
   "metadata": {},
   "outputs": [
    {
     "name": "stdout",
     "output_type": "stream",
     "text": [
      "(105, 2)\n"
     ]
    }
   ],
   "source": [
    "print(train_raw_df.shape)"
   ]
  },
  {
   "cell_type": "code",
   "execution_count": 120,
   "metadata": {},
   "outputs": [],
   "source": [
    "batch_raw = pd.concat([train_raw_df,test_df],\n",
    "axis=0,\n",
    "ignore_index=True)\n",
    "batch_raw.to_csv(\"../../data/input/hugging_face/data_val/raw_train_test.csv\")\n"
   ]
  },
  {
   "cell_type": "code",
   "execution_count": 121,
   "metadata": {},
   "outputs": [
    {
     "name": "stdout",
     "output_type": "stream",
     "text": [
      "(172, 2)\n"
     ]
    }
   ],
   "source": [
    "print(batch_raw.shape)"
   ]
  },
  {
   "cell_type": "code",
   "execution_count": 122,
   "metadata": {},
   "outputs": [
    {
     "name": "stderr",
     "output_type": "stream",
     "text": [
      "Some weights of the model checkpoint at google/electra-small-discriminator were not used when initializing ElectraModel: ['discriminator_predictions.dense_prediction.bias', 'discriminator_predictions.dense.bias', 'discriminator_predictions.dense.weight', 'discriminator_predictions.dense_prediction.weight']\n",
      "- This IS expected if you are initializing ElectraModel from the checkpoint of a model trained on another task or with another architecture (e.g. initializing a BertForSequenceClassification model from a BertForPreTraining model).\n",
      "- This IS NOT expected if you are initializing ElectraModel from the checkpoint of a model that you expect to be exactly identical (initializing a BertForSequenceClassification model from a BertForSequenceClassification model).\n"
     ]
    },
    {
     "name": "stdout",
     "output_type": "stream",
     "text": [
      "electra-small-discriminator\n"
     ]
    }
   ],
   "source": [
    "# For DistilBERT:\n",
    "# model_class, tokenizer_class, pretrained_weights = (ppb.DistilBertModel, ppb.DistilBertTokenizer, 'distilbert-base-uncased')\n",
    "# model_class, tokenizer_class, pretrained_weights= (ppb.RobertaModel,ppb.RobertaTokenizer,\"roberta-base\")\n",
    "## Want BERT instead of distilBERT? Uncomment the following line:\n",
    "#model_class, tokenizer_class, pretrained_weights = (ppb.BertModel, ppb.BertTokenizer, 'bert-base-uncased')\n",
    "#model_class, tokenizer_class, pretrained_weights = (ppb.ElectraModel, ppb.ElectraTokenizer, 'google/electra-small-discriminator')\n",
    "model_names = ['distilbert-base-uncased', \"roberta-base\", 'bert-base-uncased','google/electra-small-discriminator']\n",
    "# Load pretrained model/tokenizer\n",
    "model_id = 3\n",
    "model_na = model_names[model_id].split(\"/\")[-1] if len(model_names[model_id].split(\"/\")) > 1 else model_names[model_id]\n",
    "tokenizer = AutoTokenizer.from_pretrained(model_names[model_id])\n",
    "model = AutoModel.from_pretrained(model_names[model_id])\n",
    "print(model_na)"
   ]
  },
  {
   "cell_type": "code",
   "execution_count": 123,
   "metadata": {},
   "outputs": [],
   "source": [
    "tokenized_raw = batch_raw[\"Question\"].apply((lambda x: tokenizer.encode(x, add_special_tokens=True)))"
   ]
  },
  {
   "cell_type": "code",
   "execution_count": 124,
   "metadata": {},
   "outputs": [
    {
     "data": {
      "text/plain": [
       "27"
      ]
     },
     "execution_count": 124,
     "metadata": {},
     "output_type": "execute_result"
    }
   ],
   "source": [
    "max_len = 0\n",
    "for i in tokenized_raw.values:\n",
    "    if len(i) > max_len:\n",
    "        max_len = len(i)\n",
    "\n",
    "padded_raw = np.array([i + [0]*(max_len-len(i)) for i in tokenized_raw.values])\n",
    "max_len\n"
   ]
  },
  {
   "cell_type": "code",
   "execution_count": 125,
   "metadata": {},
   "outputs": [
    {
     "data": {
      "text/plain": [
       "(172, 27)"
      ]
     },
     "execution_count": 125,
     "metadata": {},
     "output_type": "execute_result"
    }
   ],
   "source": [
    "np.array(padded_raw).shape"
   ]
  },
  {
   "cell_type": "code",
   "execution_count": 126,
   "metadata": {},
   "outputs": [
    {
     "data": {
      "text/plain": [
       "(172, 27)"
      ]
     },
     "execution_count": 126,
     "metadata": {},
     "output_type": "execute_result"
    }
   ],
   "source": [
    "attention_mask_raw = np.where(padded_raw != 0, 1, 0)\n",
    "attention_mask_raw.shape"
   ]
  },
  {
   "cell_type": "code",
   "execution_count": 127,
   "metadata": {},
   "outputs": [],
   "source": [
    "input_ids_raw = torch.tensor(padded_raw)  \n",
    "attention_mask_raw = torch.tensor(attention_mask_raw)\n",
    "\n",
    "with torch.no_grad():\n",
    "    last_hidden_states_raw = model(input_ids_raw, attention_mask=attention_mask_raw)"
   ]
  },
  {
   "cell_type": "code",
   "execution_count": 128,
   "metadata": {},
   "outputs": [],
   "source": [
    "features_raw = last_hidden_states_raw[0][:,0,:].numpy()"
   ]
  },
  {
   "cell_type": "code",
   "execution_count": 129,
   "metadata": {},
   "outputs": [],
   "source": [
    "labels_raw = batch_raw[\"op_id\"]"
   ]
  },
  {
   "cell_type": "code",
   "execution_count": 130,
   "metadata": {},
   "outputs": [
    {
     "data": {
      "text/plain": [
       "(172,)"
      ]
     },
     "execution_count": 130,
     "metadata": {},
     "output_type": "execute_result"
    }
   ],
   "source": [
    "labels_raw.shape"
   ]
  },
  {
   "cell_type": "code",
   "execution_count": 131,
   "metadata": {},
   "outputs": [],
   "source": [
    "train_raw_shape = train_raw_df.shape\n",
    "train_raw_features = features_raw[:train_raw_shape[0]]\n",
    "test_raw_features = features_raw[train_raw_shape[0]:]\n",
    "train_raw_labels = labels_raw[:train_raw_shape[0]]\n",
    "test_raw_labels =labels_raw[train_raw_shape[0]:] \n",
    "np.savetxt(f\"../../../../text-classification-small-datasets/datasets/train_feature_{model_na}.csv\",train_raw_features,delimiter=\",\")\n",
    "np.savetxt(f\"../../../../text-classification-small-datasets/datasets/train_label_{model_na}.csv\",train_raw_labels,delimiter=\",\")\n",
    "np.savetxt(f\"../../../../text-classification-small-datasets/datasets/test_feature_{model_na}.csv\",test_raw_features,delimiter=\",\")\n",
    "np.savetxt(f\"../../../../text-classification-small-datasets/datasets/test_label_{model_na}.csv\",test_raw_labels,delimiter=\",\")"
   ]
  },
  {
   "cell_type": "code",
   "execution_count": 132,
   "metadata": {},
   "outputs": [
    {
     "name": "stdout",
     "output_type": "stream",
     "text": [
      "(105, 256)\n",
      "(67, 256)\n",
      "(105,)\n",
      "(67,)\n"
     ]
    }
   ],
   "source": [
    "print(train_raw_features.shape)\n",
    "print(test_raw_features.shape)\n",
    "print(train_raw_labels.shape)\n",
    "print(test_raw_labels.shape)"
   ]
  },
  {
   "cell_type": "code",
   "execution_count": 133,
   "metadata": {},
   "outputs": [
    {
     "ename": "NameError",
     "evalue": "name 'train_eda_df' is not defined",
     "output_type": "error",
     "traceback": [
      "\u001b[0;31m---------------------------------------------------------------------------\u001b[0m",
      "\u001b[0;31mNameError\u001b[0m                                 Traceback (most recent call last)",
      "\u001b[0;32m/var/folders/d7/wr0_38q17_38rmx4dysxdyfh0000gn/T/ipykernel_8853/3550632861.py\u001b[0m in \u001b[0;36m<module>\u001b[0;34m\u001b[0m\n\u001b[0;32m----> 1\u001b[0;31m \u001b[0mtrain_eda_shape\u001b[0m \u001b[0;34m=\u001b[0m \u001b[0mtrain_eda_df\u001b[0m\u001b[0;34m.\u001b[0m\u001b[0mshape\u001b[0m\u001b[0;34m\u001b[0m\u001b[0;34m\u001b[0m\u001b[0m\n\u001b[0m\u001b[1;32m      2\u001b[0m \u001b[0mtrain_eda_features\u001b[0m \u001b[0;34m=\u001b[0m \u001b[0mfeatures_eda\u001b[0m\u001b[0;34m[\u001b[0m\u001b[0;34m:\u001b[0m\u001b[0mtrain_eda_shape\u001b[0m\u001b[0;34m[\u001b[0m\u001b[0;36m0\u001b[0m\u001b[0;34m]\u001b[0m\u001b[0;34m]\u001b[0m\u001b[0;34m\u001b[0m\u001b[0;34m\u001b[0m\u001b[0m\n\u001b[1;32m      3\u001b[0m \u001b[0mtest_eda_features\u001b[0m \u001b[0;34m=\u001b[0m \u001b[0mfeatures_eda\u001b[0m\u001b[0;34m[\u001b[0m\u001b[0mtrain_eda_shape\u001b[0m\u001b[0;34m[\u001b[0m\u001b[0;36m0\u001b[0m\u001b[0;34m]\u001b[0m\u001b[0;34m:\u001b[0m\u001b[0;34m]\u001b[0m\u001b[0;34m\u001b[0m\u001b[0;34m\u001b[0m\u001b[0m\n\u001b[1;32m      4\u001b[0m \u001b[0mtrain_eda_labels\u001b[0m \u001b[0;34m=\u001b[0m \u001b[0mlabels_eda\u001b[0m\u001b[0;34m[\u001b[0m\u001b[0;34m:\u001b[0m\u001b[0mtrain_eda_shape\u001b[0m\u001b[0;34m[\u001b[0m\u001b[0;36m0\u001b[0m\u001b[0;34m]\u001b[0m\u001b[0;34m]\u001b[0m\u001b[0;34m\u001b[0m\u001b[0;34m\u001b[0m\u001b[0m\n\u001b[1;32m      5\u001b[0m \u001b[0mtest_eda_labels\u001b[0m \u001b[0;34m=\u001b[0m\u001b[0mlabels_eda\u001b[0m\u001b[0;34m[\u001b[0m\u001b[0mtrain_eda_shape\u001b[0m\u001b[0;34m[\u001b[0m\u001b[0;36m0\u001b[0m\u001b[0;34m]\u001b[0m\u001b[0;34m:\u001b[0m\u001b[0;34m]\u001b[0m\u001b[0;34m\u001b[0m\u001b[0;34m\u001b[0m\u001b[0m\n",
      "\u001b[0;31mNameError\u001b[0m: name 'train_eda_df' is not defined"
     ]
    }
   ],
   "source": [
    "train_eda_shape = train_eda_df.shape\n",
    "train_eda_features = features_eda[:train_eda_shape[0]]\n",
    "test_eda_features = features_eda[train_eda_shape[0]:]\n",
    "train_eda_labels = labels_eda[:train_eda_shape[0]]\n",
    "test_eda_labels =labels_eda[train_eda_shape[0]:] "
   ]
  },
  {
   "cell_type": "code",
   "execution_count": null,
   "metadata": {},
   "outputs": [],
   "source": [
    "print(train_eda_features.shape)\n",
    "print(test_eda_features.shape)\n",
    "print(train_eda_labels.shape)\n",
    "print(test_eda_labels.shape)"
   ]
  },
  {
   "cell_type": "code",
   "execution_count": null,
   "metadata": {},
   "outputs": [],
   "source": [
    "train_raw_features.shape"
   ]
  },
  {
   "cell_type": "code",
   "execution_count": null,
   "metadata": {},
   "outputs": [],
   "source": [
    "train_eda_features.shape"
   ]
  },
  {
   "cell_type": "code",
   "execution_count": null,
   "metadata": {},
   "outputs": [],
   "source": [
    "from sklearn.linear_model import LogisticRegression\n",
    "from sklearn.ensemble import RandomForestClassifier, AdaBoostClassifier\n",
    "from sklearn.svm import LinearSVC\n",
    "from sklearn.model_selection import cross_val_score\n",
    "from sklearn.svm import SVC\n",
    "from sklearn.tree import DecisionTreeClassifier\n",
    "from sklearn.naive_bayes import MultinomialNB\n",
    "from sklearn.neural_network import MLPClassifier"
   ]
  },
  {
   "cell_type": "code",
   "execution_count": null,
   "metadata": {},
   "outputs": [],
   "source": [
    "models = [\n",
    "    LinearSVC(),\n",
    "    MultinomialNB(),\n",
    "    DecisionTreeClassifier(),\n",
    "    MLPClassifier( solver=\"adam\", random_state=2343, hidden_layer_sizes=(),activation=\"identity\"),\n",
    "    SVC(kernel='poly',\n",
    "        random_state=494,\n",
    "        degree=7\n",
    "    )\n",
    "]\n",
    "\n",
    "CV = 3\n",
    "cv_df = pd.DataFrame(index=range(CV * len(models)))\n",
    "\n",
    "entries = []\n",
    "for model in models:\n",
    "    model_name = model.__class__.__name__\n",
    "    accuracies = cross_val_score(model,train_raw_features, train_raw_labels, scoring='accuracy', cv=CV)\n",
    "    for fold_idx, accuracy in enumerate(accuracies):\n",
    "        entries.append((model_name, fold_idx, accuracy))\n",
    "cv_df = pd.DataFrame(entries, columns=['model_name', 'fold_idx', 'accuracy'])\n",
    "\n",
    "plt.figure(figsize=[12,7])\n",
    "sns.boxplot(x='model_name', y='accuracy', data=cv_df)\n",
    "sns.stripplot(x='model_name', y='accuracy', data=cv_df, \n",
    "              size=10, jitter=True, edgecolor=\"gray\", linewidth=2)\n",
    "plt.savefig(\"../../figures/huggingface/test.png\",bbox_inches='tight')\n",
    "plt.show()"
   ]
  },
  {
   "cell_type": "code",
   "execution_count": null,
   "metadata": {},
   "outputs": [],
   "source": [
    "cv_df.groupby('model_name').accuracy.mean()"
   ]
  },
  {
   "cell_type": "code",
   "execution_count": null,
   "metadata": {},
   "outputs": [],
   "source": [
    "models = [\n",
    "    LinearSVC(),\n",
    "    MultinomialNB(),\n",
    "    DecisionTreeClassifier(),\n",
    "    MLPClassifier( solver=\"sgd\", random_state=2343),\n",
    "    SVC(kernel='poly',\n",
    "        random_state=494,\n",
    "        degree=7\n",
    "    )\n",
    "]\n",
    "\n",
    "CV = 3\n",
    "cv_df = pd.DataFrame(index=range(CV * len(models)))\n",
    "\n",
    "entries = []\n",
    "for model in models:\n",
    "    model_name = model.__class__.__name__\n",
    "    accuracies = cross_val_score(model,train_eda_features, train_eda_labels, scoring='accuracy', cv=CV)\n",
    "    for fold_idx, accuracy in enumerate(accuracies):\n",
    "        entries.append((model_name, fold_idx, accuracy))\n",
    "cv_df = pd.DataFrame(entries, columns=['model_name', 'fold_idx', 'accuracy'])\n",
    "\n",
    "plt.figure(figsize=[12,7])\n",
    "sns.boxplot(x='model_name', y='accuracy', data=cv_df)\n",
    "sns.stripplot(x='model_name', y='accuracy', data=cv_df, \n",
    "              size=10, jitter=True, edgecolor=\"gray\", linewidth=2)\n",
    "plt.show()"
   ]
  },
  {
   "cell_type": "code",
   "execution_count": null,
   "metadata": {},
   "outputs": [],
   "source": [
    "cv_df.groupby('model_name').accuracy.mean()"
   ]
  },
  {
   "cell_type": "code",
   "execution_count": null,
   "metadata": {},
   "outputs": [],
   "source": [
    "# parameters = {'C': np.linspace(0.0001, 100, 20)}\n",
    "# grid_search = GridSearchCV(LogisticRegression(), parameters)\n",
    "# grid_search.fit(train_features, train_labels)\n",
    "\n",
    "# print('best parameters: ', grid_search.best_params_)\n",
    "# print('best scrores: ', grid_search.best_score_)"
   ]
  },
  {
   "cell_type": "code",
   "execution_count": null,
   "metadata": {},
   "outputs": [],
   "source": [
    "model = LinearSVC(max_iter=3000, tol=1e-2)\n",
    "\n",
    "model.fit(train_raw_features, train_raw_labels)\n",
    "y_pred = model.predict(test_raw_features)\n",
    "print(y_pred)\n",
    "\n",
    "\n",
    "from sklearn.metrics import confusion_matrix\n",
    "conf_mat = confusion_matrix(test_raw_labels, y_pred)\n",
    "\n",
    "fig, ax = plt.subplots(figsize=(15,15))\n",
    "sns.heatmap(conf_mat, annot=True, fmt='d',\n",
    "            xticklabels=sorted(list(set(test_raw_labels.values))), \n",
    "            yticklabels=sorted(list(set(test_raw_labels.values))),\n",
    "            cmap='OrRd'\n",
    "            )\n",
    "plt.ylabel('Actual')\n",
    "plt.xlabel('Predicted')\n",
    "plt.show()"
   ]
  },
  {
   "cell_type": "code",
   "execution_count": null,
   "metadata": {},
   "outputs": [],
   "source": [
    "from sklearn import metrics\n",
    "\n",
    "unique_keys = sorted(list(set(test_raw_labels.values)))\n",
    "print('accuracy %s' %metrics.accuracy_score(y_pred,test_raw_labels))"
   ]
  },
  {
   "cell_type": "code",
   "execution_count": null,
   "metadata": {},
   "outputs": [],
   "source": [
    "model.score(test_raw_features,test_raw_labels)"
   ]
  },
  {
   "cell_type": "code",
   "execution_count": null,
   "metadata": {},
   "outputs": [],
   "source": [
    "model = LinearSVC(max_iter=3000,C=1,tol=1e-3)    \n",
    "\n",
    "model.fit(train_eda_features, train_eda_labels)\n",
    "y_pred = model.predict(test_eda_features)\n",
    "print(y_pred)\n",
    "\n",
    "\n",
    "\n",
    "\n",
    "from sklearn.metrics import confusion_matrix\n",
    "conf_mat = confusion_matrix(test_eda_labels, y_pred)\n",
    "\n",
    "fig, ax = plt.subplots(figsize=(15,15))\n",
    "sns.heatmap(conf_mat, annot=True, fmt='d',\n",
    "            xticklabels=sorted(list(set(test_raw_labels.values))), \n",
    "            yticklabels=sorted(list(set(test_raw_labels.values))),\n",
    "            cmap='OrRd'\n",
    "            )\n",
    "plt.ylabel('Actual')\n",
    "plt.xlabel('Predicted')\n",
    "plt.show()"
   ]
  },
  {
   "cell_type": "code",
   "execution_count": null,
   "metadata": {},
   "outputs": [],
   "source": [
    "print('accuracy %s' %metrics.accuracy_score(y_pred,test_eda_labels))"
   ]
  }
 ],
 "metadata": {
  "kernelspec": {
   "display_name": "Python 3.7.12",
   "language": "python",
   "name": "python3"
  },
  "language_info": {
   "codemirror_mode": {
    "name": "ipython",
    "version": 3
   },
   "file_extension": ".py",
   "mimetype": "text/x-python",
   "name": "python",
   "nbconvert_exporter": "python",
   "pygments_lexer": "ipython3",
   "version": "3.7.12"
  },
  "orig_nbformat": 4,
  "vscode": {
   "interpreter": {
    "hash": "91132f0c78f62a13112524cf1d1413e4c63e6d07cae6b82e89fe757cd3022c6e"
   }
  }
 },
 "nbformat": 4,
 "nbformat_minor": 2
}
