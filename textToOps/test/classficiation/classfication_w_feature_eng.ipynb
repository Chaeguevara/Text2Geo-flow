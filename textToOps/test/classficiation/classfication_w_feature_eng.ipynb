{
 "cells": [
  {
   "cell_type": "markdown",
   "metadata": {},
   "source": [
    "# 0. Define functions and import packages"
   ]
  },
  {
   "cell_type": "code",
   "execution_count": 159,
   "metadata": {},
   "outputs": [
    {
     "name": "stderr",
     "output_type": "stream",
     "text": [
      "/var/folders/d7/wr0_38q17_38rmx4dysxdyfh0000gn/T/ipykernel_1947/333034981.py:9: MatplotlibDeprecationWarning: The seaborn styles shipped by Matplotlib are deprecated since 3.6, as they no longer correspond to the styles shipped by seaborn. However, they will remain available as 'seaborn-v0_8-<style>'. Alternatively, directly use the seaborn API instead.\n",
      "  plt.style.use('seaborn-dark-palette')\n",
      "[nltk_data] Downloading package punkt to\n",
      "[nltk_data]     /Users/heejinchae/nltk_data...\n",
      "[nltk_data]   Package punkt is already up-to-date!\n"
     ]
    }
   ],
   "source": [
    "import pandas as pd\n",
    "# Importing Libraries\n",
    "import numpy as np\n",
    "import pandas as pd\n",
    "import seaborn as sns\n",
    "import matplotlib.pyplot as plt\n",
    "import nltk\n",
    "%matplotlib inline\n",
    "plt.style.use('seaborn-dark-palette')\n",
    "from scipy import stats\n",
    "\n",
    "import datetime as dt\n",
    "from nltk.tokenize import word_tokenize\n",
    "from nltk.corpus import stopwords\n",
    "from nltk.stem import WordNetLemmatizer\n",
    "from nltk.corpus import wordnet\n",
    "\n",
    "nltk.download('punkt')\n",
    "stop_words = set(stopwords.words('english')) \n",
    "\n",
    "import plotly\n",
    "import plotly.express as px"
   ]
  },
  {
   "cell_type": "markdown",
   "metadata": {},
   "source": [
    "## Vectorizor"
   ]
  },
  {
   "cell_type": "code",
   "execution_count": 160,
   "metadata": {},
   "outputs": [],
   "source": [
    "from sklearn.feature_extraction.text import TfidfVectorizer"
   ]
  },
  {
   "cell_type": "markdown",
   "metadata": {},
   "source": [
    "## Tokenizer"
   ]
  },
  {
   "cell_type": "code",
   "execution_count": 161,
   "metadata": {},
   "outputs": [],
   "source": [
    "def get_wordnet_pos(word):\n",
    "    \"\"\"Map POS tag to first character lemmatize() accepts\"\"\"\n",
    "    tag = nltk.pos_tag([word])[0][1][0].upper()\n",
    "    tag_dict = {\"J\": wordnet.ADJ,\n",
    "                \"N\": wordnet.NOUN,\n",
    "                \"V\": wordnet.VERB,\n",
    "                \"R\": wordnet.ADV}\n",
    "\n",
    "    return tag_dict.get(tag, wordnet.NOUN)"
   ]
  },
  {
   "cell_type": "code",
   "execution_count": 162,
   "metadata": {},
   "outputs": [],
   "source": [
    "class LemmaTokenizer:\n",
    "    ignore_tokens = [',', '.', ';', ':', '\"', '``', \"''\", '`','(',')']\n",
    "    def __init__(self):\n",
    "        self.wnl = WordNetLemmatizer()\n",
    "    def __call__(self, doc):\n",
    "        val = []\n",
    "        for t in word_tokenize(doc):\n",
    "            if t.isdigit():\n",
    "                continue\n",
    "            if (t not in self.ignore_tokens):\n",
    "                val.append(\n",
    "                    self.wnl.lemmatize(t,get_wordnet_pos(t))\n",
    "                )\n",
    "                \n",
    "        return val"
   ]
  },
  {
   "cell_type": "markdown",
   "metadata": {},
   "source": [
    "## Pre processor"
   ]
  },
  {
   "cell_type": "code",
   "execution_count": 163,
   "metadata": {},
   "outputs": [],
   "source": [
    "def preprocess(document):\n",
    "    'changes document to lower case and removes stopwords'\n",
    "\n",
    "    # change sentence to lower case\n",
    "    document = document.lower()\n",
    "\n",
    "    # tokenize into words\n",
    "    words = word_tokenize(document)\n",
    "\n",
    "    # remove stop words & numbrs\n",
    "    words = [word for word in words if word not in stopwords.words(\"english\") or not word.isdigit()]\n",
    "\n",
    "\n",
    "    # join words to make sentence\n",
    "    document = \" \".join(words)\n",
    "    \n",
    "    return document"
   ]
  },
  {
   "cell_type": "markdown",
   "metadata": {},
   "source": [
    "## Let's see what are stop word"
   ]
  },
  {
   "cell_type": "code",
   "execution_count": 164,
   "metadata": {},
   "outputs": [
    {
     "name": "stdout",
     "output_type": "stream",
     "text": [
      "['i', 'me', 'my', 'myself', 'we', 'our', 'ours', 'ourselves', 'you', \"you're\", \"you've\", \"you'll\", \"you'd\", 'your', 'yours', 'yourself', 'yourselves', 'he', 'him', 'his', 'himself', 'she', \"she's\", 'her', 'hers', 'herself', 'it', \"it's\", 'its', 'itself', 'they', 'them', 'their', 'theirs', 'themselves', 'what', 'which', 'who', 'whom', 'this', 'that', \"that'll\", 'these', 'those', 'am', 'is', 'are', 'was', 'were', 'be', 'been', 'being', 'have', 'has', 'had', 'having', 'do', 'does', 'did', 'doing', 'a', 'an', 'the', 'and', 'but', 'if', 'or', 'because', 'as', 'until', 'while', 'of', 'at', 'by', 'for', 'with', 'about', 'against', 'between', 'into', 'through', 'during', 'before', 'after', 'above', 'below', 'to', 'from', 'up', 'down', 'in', 'out', 'on', 'off', 'over', 'under', 'again', 'further', 'then', 'once', 'here', 'there', 'when', 'where', 'why', 'how', 'all', 'any', 'both', 'each', 'few', 'more', 'most', 'other', 'some', 'such', 'no', 'nor', 'not', 'only', 'own', 'same', 'so', 'than', 'too', 'very', 's', 't', 'can', 'will', 'just', 'don', \"don't\", 'should', \"should've\", 'now', 'd', 'll', 'm', 'o', 're', 've', 'y', 'ain', 'aren', \"aren't\", 'couldn', \"couldn't\", 'didn', \"didn't\", 'doesn', \"doesn't\", 'hadn', \"hadn't\", 'hasn', \"hasn't\", 'haven', \"haven't\", 'isn', \"isn't\", 'ma', 'mightn', \"mightn't\", 'mustn', \"mustn't\", 'needn', \"needn't\", 'shan', \"shan't\", 'shouldn', \"shouldn't\", 'wasn', \"wasn't\", 'weren', \"weren't\", 'won', \"won't\", 'wouldn', \"wouldn't\"]\n"
     ]
    }
   ],
   "source": [
    "print(stopwords.words(\"english\"))"
   ]
  },
  {
   "cell_type": "markdown",
   "metadata": {},
   "source": [
    "## Load data"
   ]
  },
  {
   "cell_type": "code",
   "execution_count": 165,
   "metadata": {},
   "outputs": [],
   "source": [
    "df = pd.read_excel(\"../../data/raw/DataCorpus_classfied_중분류_1차 연구.xlsx\")"
   ]
  },
  {
   "cell_type": "code",
   "execution_count": 166,
   "metadata": {},
   "outputs": [],
   "source": [
    "def add_type_column(df):\n",
    "    ops = df.iloc[:, 5:]\n",
    "    op_type = ops[ops.columns[1:]].apply(\n",
    "        lambda x: ','.join(x.dropna().astype(str)),\n",
    "        axis=1\n",
    "    )\n",
    "    op_type=op_type.str.lower()\n",
    "    df[\"op_type\"] = op_type\n",
    "    op_type = pd.DataFrame(op_type.unique(), columns=[\"op_type\"])\n",
    "    op_type[\"op_id\"] = op_type.index\n",
    "    op_type.to_excel(\"../../data/raw/op_type.xlsx\")\n",
    "    df = df.merge(op_type, how='left', on=\"op_type\")\n",
    "    df.to_excel(\"../../data/processed/corpora_w_op_type.xlsx\")\n",
    "    return df"
   ]
  },
  {
   "cell_type": "code",
   "execution_count": 167,
   "metadata": {},
   "outputs": [],
   "source": [
    "df = add_type_column(df)"
   ]
  },
  {
   "cell_type": "markdown",
   "metadata": {},
   "source": [
    "# 1. Type count from raw data\n",
    " Visualize initail labelled data"
   ]
  },
  {
   "cell_type": "code",
   "execution_count": 168,
   "metadata": {},
   "outputs": [
    {
     "name": "stderr",
     "output_type": "stream",
     "text": [
      "/Users/heejinchae/opt/anaconda3/envs/torch/lib/python3.9/site-packages/seaborn/_decorators.py:36: FutureWarning: Pass the following variable as a keyword arg: x. From version 0.12, the only valid positional argument will be `data`, and passing other arguments without an explicit keyword will result in an error or misinterpretation.\n",
      "  warnings.warn(\n"
     ]
    },
    {
     "data": {
      "image/png": "[encoded data removed]",
      "text/plain": [
       "<Figure size 900x900 with 1 Axes>"
      ]
     },
     "metadata": {},
     "output_type": "display_data"
    }
   ],
   "source": [
    "plt.figure(figsize=[9,9])\n",
    "plot = sns.countplot(df[\"op_id\"], palette = 'inferno')\n",
    "for p in plot.patches:\n",
    "    plot.annotate(format(p.get_height(),), (p.get_x() + p.get_width() / 2., p.get_height()), ha = 'center', va = 'center', xytext = (0, 10), textcoords = 'offset points')\n",
    "\n",
    "plt.title('operation type count', fontdict={'fontsize': 20, 'fontweight': 5, 'color': 'Green'})\n",
    "#plt.xticks(rotation=90)\n",
    "plt.show()"
   ]
  },
  {
   "cell_type": "markdown",
   "metadata": {},
   "source": [
    "# 2. Drop classes only with a value\n",
    " If a data is the only one in category, dropped <br />\n",
    " 클래스에 해당하는 데이터가 n개 인것은 제거하기로 함. 여기서는 2개 이상으로 설정했음\n",
    " "
   ]
  },
  {
   "cell_type": "code",
   "execution_count": 169,
   "metadata": {},
   "outputs": [],
   "source": [
    "df_drop_solo= df.groupby(\"op_id\").filter(lambda x: len(x) >3)\n",
    "df_drop_solo.to_excel(\"../../data/processed/corpora_unique_ops_dropped.xlsx\")"
   ]
  },
  {
   "cell_type": "code",
   "execution_count": 170,
   "metadata": {},
   "outputs": [
    {
     "name": "stdout",
     "output_type": "stream",
     "text": [
      "<class 'pandas.core.frame.DataFrame'>\n",
      "Int64Index: 91 entries, 0 to 134\n",
      "Data columns (total 21 columns):\n",
      " #   Column         Non-Null Count  Dtype \n",
      "---  ------         --------------  ----- \n",
      " 0   Question       91 non-null     object\n",
      " 1   extents        91 non-null     object\n",
      " 2   upper level    9 non-null      object\n",
      " 3   timespan       2 non-null      object\n",
      " 4   Tag In Osm     69 non-null     object\n",
      " 5   Question type  91 non-null     object\n",
      " 6   ordinary1      91 non-null     object\n",
      " 7   ordinary2      82 non-null     object\n",
      " 8   ordinary3      63 non-null     object\n",
      " 9   ordinary4      17 non-null     object\n",
      " 10  ordinary5      10 non-null     object\n",
      " 11  ordinary6      0 non-null      object\n",
      " 12  ordinary7      0 non-null      object\n",
      " 13  ordinary8      0 non-null      object\n",
      " 14  ordinary9      0 non-null      object\n",
      " 15  ordinary10     0 non-null      object\n",
      " 16  ordinary103    0 non-null      object\n",
      " 17  ordinary102    0 non-null      object\n",
      " 18  ordinary11     0 non-null      object\n",
      " 19  op_type        91 non-null     object\n",
      " 20  op_id          91 non-null     int64 \n",
      "dtypes: int64(1), object(20)\n",
      "memory usage: 15.6+ KB\n"
     ]
    }
   ],
   "source": [
    "df_drop_solo.info()"
   ]
  },
  {
   "cell_type": "code",
   "execution_count": 171,
   "metadata": {},
   "outputs": [
    {
     "name": "stderr",
     "output_type": "stream",
     "text": [
      "/Users/heejinchae/opt/anaconda3/envs/torch/lib/python3.9/site-packages/seaborn/_decorators.py:36: FutureWarning: Pass the following variable as a keyword arg: x. From version 0.12, the only valid positional argument will be `data`, and passing other arguments without an explicit keyword will result in an error or misinterpretation.\n",
      "  warnings.warn(\n"
     ]
    },
    {
     "data": {
      "image/png": "[encoded data removed]",
      "text/plain": [
       "<Figure size 900x900 with 1 Axes>"
      ]
     },
     "metadata": {},
     "output_type": "display_data"
    }
   ],
   "source": [
    "plt.figure(figsize=[9,9])\n",
    "plot = sns.countplot(df_drop_solo[\"op_id\"], palette = 'inferno')\n",
    "for p in plot.patches:\n",
    "    plot.annotate(format(p.get_height(),), (p.get_x() + p.get_width() / 2., p.get_height()), ha = 'center', va = 'center', xytext = (0, 10), textcoords = 'offset points')\n",
    "\n",
    "plt.title('operation type count', fontdict={'fontsize': 20, 'fontweight': 5, 'color': 'Green'})\n",
    "#plt.xticks(rotation=90)\n",
    "plt.show()"
   ]
  },
  {
   "cell_type": "markdown",
   "metadata": {},
   "source": [
    "# 3. Paraphrase only some portion. \n",
    " Stratified sampleing. fraction = 0.8 <br />\n",
    " At this point go to [paraphraser](../../utils/main_balanced.py) and run the script and come back here"
   ]
  },
  {
   "cell_type": "code",
   "execution_count": 172,
   "metadata": {},
   "outputs": [
    {
     "name": "stdout",
     "output_type": "stream",
     "text": [
      "     Unnamed: 0.1  Unnamed: 0  \\\n",
      "0               0           0   \n",
      "1               1           1   \n",
      "2               2           2   \n",
      "3               3           3   \n",
      "4               4           7   \n",
      "..            ...         ...   \n",
      "104            62          94   \n",
      "105            79         119   \n",
      "106            81         121   \n",
      "107            83         124   \n",
      "108            89         133   \n",
      "\n",
      "                                              Question  \\\n",
      "0    How many buildings are within 3 minutes of dri...   \n",
      "1    How many luxury hotels are in Happy Valley ski...   \n",
      "2    How many streetlights for each district in San...   \n",
      "3    What are the areas within a four-minute drive ...   \n",
      "4    What are the land use inside the flood zones i...   \n",
      "..                                                 ...   \n",
      "104                What is the land use in Netherlands   \n",
      "105          Where are the industrial areas in Utrecht   \n",
      "106                 Where are the rocky areas in Spain   \n",
      "107               Which houses are for sale in Utrecht   \n",
      "108  Which vacant lots are within 1 mile of a freew...   \n",
      "\n",
      "                     extents upper level timespan  \\\n",
      "0                   Oleander         NaN      NaN   \n",
      "1    Happy Valley ski resort         NaN      NaN   \n",
      "2                  San Diego         NaN      NaN   \n",
      "3                    Utrecht         NaN      NaN   \n",
      "4                   Oleander         NaN      NaN   \n",
      "..                       ...         ...      ...   \n",
      "104              Netherlands         NaN      NaN   \n",
      "105                  Utrecht         NaN      NaN   \n",
      "106                    Spain         NaN      NaN   \n",
      "107                  Utrecht         NaN      NaN   \n",
      "108                Hillsboro         NaN      NaN   \n",
      "\n",
      "                          Tag In Osm Question type     ordinary1  \\\n",
      "0              building=*, highway=*          done  Data queries   \n",
      "1             tourism=hotel, stars=*          done  Data queries   \n",
      "2                highway=street_lamp          done  Data queries   \n",
      "3                                NaN          done  Data queries   \n",
      "4                                NaN          done  Data queries   \n",
      "..                               ...           ...           ...   \n",
      "104                        landuse=*          done  Data queries   \n",
      "105               landuse=industrial          done  Data queries   \n",
      "106               nature : bare_rock          done  Data queries   \n",
      "107                   building=house          done  data editing   \n",
      "108  abandoned:*=*, highway=motorway          done  Data queries   \n",
      "\n",
      "                ordinary2  ... ordinary7 ordinary8 ordinary9  ordinary10  \\\n",
      "0        Network analysis  ...       NaN       NaN       NaN         NaN   \n",
      "1                     NaN  ...       NaN       NaN       NaN         NaN   \n",
      "2        Overlay analysis  ...       NaN       NaN       NaN         NaN   \n",
      "3        network analysis  ...       NaN       NaN       NaN         NaN   \n",
      "4        Overlay analysis  ...       NaN       NaN       NaN         NaN   \n",
      "..                    ...  ...       ...       ...       ...         ...   \n",
      "104                   NaN  ...       NaN       NaN       NaN         NaN   \n",
      "105  Geometry measurement  ...       NaN       NaN       NaN         NaN   \n",
      "106  Geometry measurement  ...       NaN       NaN       NaN         NaN   \n",
      "107          Data queries  ...       NaN       NaN       NaN         NaN   \n",
      "108                buffer  ...       NaN       NaN       NaN         NaN   \n",
      "\n",
      "     ordinary103  ordinary102  ordinary11  \\\n",
      "0            NaN          NaN         NaN   \n",
      "1            NaN          NaN         NaN   \n",
      "2            NaN          NaN         NaN   \n",
      "3            NaN          NaN         NaN   \n",
      "4            NaN          NaN         NaN   \n",
      "..           ...          ...         ...   \n",
      "104          NaN          NaN         NaN   \n",
      "105          NaN          NaN         NaN   \n",
      "106          NaN          NaN         NaN   \n",
      "107          NaN          NaN         NaN   \n",
      "108          NaN          NaN         NaN   \n",
      "\n",
      "                                               op_type  op_id  for train  \n",
      "0    data queries,network analysis,classification,d...      0       True  \n",
      "1                                         data queries      1       True  \n",
      "2           data queries,overlay analysis,data queries      2       True  \n",
      "3    data queries,network analysis,classification,d...      0       True  \n",
      "4           data queries,overlay analysis,data queries      2       True  \n",
      "..                                                 ...    ...        ...  \n",
      "104                                       data queries      1      False  \n",
      "105     data queries,geometry measurement,data queries      8      False  \n",
      "106     data queries,geometry measurement,data queries      8      False  \n",
      "107                          data editing,data queries      9      False  \n",
      "108  data queries,buffer,overlay analysis,data queries     21      False  \n",
      "\n",
      "[109 rows x 24 columns]\n"
     ]
    }
   ],
   "source": [
    "tr_te_set = pd.read_excel(\"../../data/processed/train_test_only_paraphrased.xlsx\")\n",
    "print(tr_te_set)"
   ]
  },
  {
   "cell_type": "code",
   "execution_count": 173,
   "metadata": {},
   "outputs": [
    {
     "name": "stderr",
     "output_type": "stream",
     "text": [
      "/Users/heejinchae/opt/anaconda3/envs/torch/lib/python3.9/site-packages/seaborn/_decorators.py:36: FutureWarning: Pass the following variable as a keyword arg: x. From version 0.12, the only valid positional argument will be `data`, and passing other arguments without an explicit keyword will result in an error or misinterpretation.\n",
      "  warnings.warn(\n"
     ]
    },
    {
     "data": {
      "image/png": "[encoded data removed]",
      "text/plain": [
       "<Figure size 900x900 with 1 Axes>"
      ]
     },
     "metadata": {},
     "output_type": "display_data"
    }
   ],
   "source": [
    "plt.figure(figsize=[9,9])\n",
    "plot = sns.countplot(tr_te_set[\"op_id\"], palette = 'inferno')\n",
    "for p in plot.patches:\n",
    "    plot.annotate(format(p.get_height(),), (p.get_x() + p.get_width() / 2., p.get_height()), ha = 'center', va = 'center', xytext = (0, 10), textcoords = 'offset points')\n",
    "\n",
    "plt.title('operation type count', fontdict={'fontsize': 20, 'fontweight': 5, 'color': 'Green'})\n",
    "#plt.xticks(rotation=90)\n",
    "plt.show()"
   ]
  },
  {
   "cell_type": "markdown",
   "metadata": {},
   "source": [
    "# 4. Preprocessing"
   ]
  },
  {
   "cell_type": "code",
   "execution_count": 174,
   "metadata": {},
   "outputs": [],
   "source": [
    "questions = tr_te_set[\"Question\"].str.lower()"
   ]
  },
  {
   "cell_type": "markdown",
   "metadata": {},
   "source": [
    "## 4.1 Remove stopword, lemmartization etc...\n",
    " pos tag for stamming <br /> \n",
    " ex) <br /> \n",
    " ***before*** \"The striped bats are hanging on their feet for best\" -> ['The', 'striped', 'bat', 'are', 'hanging', 'on', 'their', 'foot', 'for', 'best'] <br />\n",
    " ***after*** \"The striped bats are hanging on their feet for best\" -> ['The', ***'strip'***, 'bat', ***'be'***, ***'hang'***, 'on', 'their', 'foot', 'for', 'best'] \n",
    " <br />\n",
    " <br />\n",
    " Also ***delete numbers***, cause those are not that important <br />\n",
    " ex) how many buildings are within ***3*** minutes of driving time from fire stations in oleander <br /> -->\n",
    " ['how', 'many', 'building', 'be', 'within', 'minute', 'of', 'drive', 'time', 'from', 'fire', 'station', 'in', 'oleander']"
   ]
  },
  {
   "cell_type": "code",
   "execution_count": 175,
   "metadata": {},
   "outputs": [
    {
     "name": "stdout",
     "output_type": "stream",
     "text": [
      "how many buildings are within 3 minutes of driving time from fire stations in oleander\n",
      "['how', 'many', 'building', 'be', 'within', 'minute', 'of', 'drive', 'time', 'from', 'fire', 'station', 'in', 'oleander']\n"
     ]
    }
   ],
   "source": [
    "# proccessed vs not processed 비교 해볼 것\n",
    "# Not Preprocessed\n",
    "questions = [question for question in questions]\n",
    "# preprocessed\n",
    "# questions = [preprocess(question) for question in questions]\n",
    "\n",
    "print(questions[0])\n",
    "lemm = LemmaTokenizer()\n",
    "in_ = questions[0] \n",
    "print(lemm(in_))"
   ]
  },
  {
   "cell_type": "markdown",
   "metadata": {},
   "source": [
    "## 4.2 Vectorize with TfIdf"
   ]
  },
  {
   "cell_type": "code",
   "execution_count": 176,
   "metadata": {},
   "outputs": [
    {
     "name": "stderr",
     "output_type": "stream",
     "text": [
      "/Users/heejinchae/opt/anaconda3/envs/torch/lib/python3.9/site-packages/sklearn/feature_extraction/text.py:404: UserWarning: Your stop_words may be inconsistent with your preprocessing. Tokenizing the stop words generated tokens ['far', 'make', 'u'] not in stop_words.\n",
      "  warnings.warn(\n"
     ]
    }
   ],
   "source": [
    "# vectorizer = TfidfVectorizer()\n",
    "vectorizer = TfidfVectorizer(sublinear_tf=True, min_df=1, norm='l2', encoding='utf-8', stop_words=None, tokenizer=LemmaTokenizer())\n",
    "features = vectorizer.fit_transform(questions)"
   ]
  },
  {
   "cell_type": "markdown",
   "metadata": {},
   "source": [
    "# 5. classify"
   ]
  },
  {
   "cell_type": "code",
   "execution_count": 177,
   "metadata": {},
   "outputs": [
    {
     "name": "stderr",
     "output_type": "stream",
     "text": [
      "/Users/heejinchae/opt/anaconda3/envs/torch/lib/python3.9/site-packages/sklearn/utils/deprecation.py:87: FutureWarning: Function get_feature_names is deprecated; get_feature_names is deprecated in 1.0 and will be removed in 1.2. Please use get_feature_names_out instead.\n",
      "  warnings.warn(msg, category=FutureWarning)\n"
     ]
    }
   ],
   "source": [
    "tfidf = pd.DataFrame(features.toarray(), columns = vectorizer.get_feature_names())\n",
    "tfidf_w_question = tfidf.copy()\n",
    "tfidf_w_question[\"Question\"] = tr_te_set[\"Question\"]\n",
    "tfidf_w_question.to_excel(\"../../data/processed/tfidf_vectorized.xlsx\")"
   ]
  },
  {
   "cell_type": "code",
   "execution_count": 178,
   "metadata": {},
   "outputs": [],
   "source": [
    "train_set = tr_te_set[tr_te_set[\"for train\"]==True]\n",
    "test_set = tr_te_set[tr_te_set[\"for train\"]==False]\n",
    "X_train, Y_train = train_set[\"Question\"], train_set[\"op_id\"]\n",
    "X_test, Y_test = test_set[\"Question\"], test_set[\"op_id\"]"
   ]
  },
  {
   "cell_type": "code",
   "execution_count": 179,
   "metadata": {},
   "outputs": [
    {
     "ename": "NameError",
     "evalue": "name 'labels' is not defined",
     "output_type": "error",
     "traceback": [
      "\u001b[0;31m---------------------------------------------------------------------------\u001b[0m",
      "\u001b[0;31mNameError\u001b[0m                                 Traceback (most recent call last)",
      "Cell \u001b[0;32mIn [179], line 24\u001b[0m\n\u001b[1;32m     22\u001b[0m \u001b[39mfor\u001b[39;00m model \u001b[39min\u001b[39;00m models:\n\u001b[1;32m     23\u001b[0m     model_name \u001b[39m=\u001b[39m model\u001b[39m.\u001b[39m\u001b[39m__class__\u001b[39m\u001b[39m.\u001b[39m\u001b[39m__name__\u001b[39m\n\u001b[0;32m---> 24\u001b[0m     accuracies \u001b[39m=\u001b[39m cross_val_score(model, features, labels, scoring\u001b[39m=\u001b[39m\u001b[39m'\u001b[39m\u001b[39maccuracy\u001b[39m\u001b[39m'\u001b[39m, cv\u001b[39m=\u001b[39mCV)\n\u001b[1;32m     25\u001b[0m     \u001b[39mfor\u001b[39;00m fold_idx, accuracy \u001b[39min\u001b[39;00m \u001b[39menumerate\u001b[39m(accuracies):\n\u001b[1;32m     26\u001b[0m         entries\u001b[39m.\u001b[39mappend((model_name, fold_idx, accuracy))\n",
      "\u001b[0;31mNameError\u001b[0m: name 'labels' is not defined"
     ]
    }
   ],
   "source": [
    "from sklearn.linear_model import LogisticRegression\n",
    "from sklearn.ensemble import RandomForestClassifier\n",
    "from sklearn.svm import LinearSVC\n",
    "from sklearn.model_selection import cross_val_score\n",
    "from sklearn.svm import SVC\n",
    "from sklearn.tree import DecisionTreeClassifier\n",
    "from sklearn.naive_bayes import MultinomialNB\n",
    "\n",
    "models = [\n",
    "    RandomForestClassifier(n_estimators=200, max_depth=3, random_state=0),\n",
    "    LinearSVC(),\n",
    "    MultinomialNB(),\n",
    "    LogisticRegression(random_state=0),\n",
    "    SVC(kernel=\"linear\", C=0.025),\n",
    "    DecisionTreeClassifier(max_depth=5),\n",
    "]\n",
    "\n",
    "CV = 5\n",
    "cv_df = pd.DataFrame(index=range(CV * len(models)))\n",
    "\n",
    "entries = []\n",
    "for model in models:\n",
    "    model_name = model.__class__.__name__\n",
    "    accuracies = cross_val_score(model, features, labels, scoring='accuracy', cv=CV)\n",
    "    for fold_idx, accuracy in enumerate(accuracies):\n",
    "        entries.append((model_name, fold_idx, accuracy))\n",
    "cv_df = pd.DataFrame(entries, columns=['model_name', 'fold_idx', 'accuracy'])\n",
    "\n",
    "import seaborn as sns\n",
    "sns.boxplot(x='model_name', y='accuracy', data=cv_df)\n",
    "sns.stripplot(x='model_name', y='accuracy', data=cv_df, \n",
    "              size=10, jitter=True, edgecolor=\"gray\", linewidth=2)\n",
    "plt.show()"
   ]
  }
 ],
 "metadata": {
  "kernelspec": {
   "display_name": "Python 3.9.13 ('torch')",
   "language": "python",
   "name": "python3"
  },
  "language_info": {
   "codemirror_mode": {
    "name": "ipython",
    "version": 3
   },
   "file_extension": ".py",
   "mimetype": "text/x-python",
   "name": "python",
   "nbconvert_exporter": "python",
   "pygments_lexer": "ipython3",
   "version": "3.9.13"
  },
  "orig_nbformat": 4,
  "vscode": {
   "interpreter": {
    "hash": "826053bd674bbf40aaf90a661da74bbf0d2673b0e277479e4b77948c64f16caa"
   }
  }
 },
 "nbformat": 4,
 "nbformat_minor": 2
}
