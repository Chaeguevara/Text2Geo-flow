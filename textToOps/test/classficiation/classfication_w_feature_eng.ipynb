{
 "cells": [
  {
   "cell_type": "markdown",
   "metadata": {},
   "source": [
    "# 0. Define functions and import packages"
   ]
  },
  {
   "cell_type": "code",
   "execution_count": 97,
   "metadata": {},
   "outputs": [
    {
     "name": "stderr",
     "output_type": "stream",
     "text": [
      "/var/folders/d7/wr0_38q17_38rmx4dysxdyfh0000gn/T/ipykernel_9859/3737874019.py:9: MatplotlibDeprecationWarning:\n",
      "\n",
      "The seaborn styles shipped by Matplotlib are deprecated since 3.6, as they no longer correspond to the styles shipped by seaborn. However, they will remain available as 'seaborn-v0_8-<style>'. Alternatively, directly use the seaborn API instead.\n",
      "\n",
      "[nltk_data] Downloading package punkt to\n",
      "[nltk_data]     /Users/heejinchae/nltk_data...\n",
      "[nltk_data]   Package punkt is already up-to-date!\n"
     ]
    }
   ],
   "source": [
    "import pandas as pd\n",
    "# Importing Libraries\n",
    "import numpy as np\n",
    "import pandas as pd\n",
    "import seaborn as sns\n",
    "import matplotlib.pyplot as plt\n",
    "import nltk\n",
    "%matplotlib inline\n",
    "plt.style.use('seaborn-dark-palette')\n",
    "from scipy import stats\n",
    "\n",
    "import datetime as dt\n",
    "from nltk.tokenize import word_tokenize\n",
    "from nltk.corpus import stopwords\n",
    "from nltk.stem import WordNetLemmatizer\n",
    "from nltk.corpus import wordnet\n",
    "\n",
    "nltk.download('punkt')\n",
    "stop_words = set(stopwords.words('english')) \n",
    "\n",
    "import plotly\n",
    "import plotly.express as px\n",
    "doc_units = pd.read_excel(\"../../data/processed/units.xlsx\")\n",
    "doc_dict = dict(zip(doc_units[\"from\"],doc_units[\"to\"])) "
   ]
  },
  {
   "cell_type": "markdown",
   "metadata": {},
   "source": [
    "## Vectorizor"
   ]
  },
  {
   "cell_type": "code",
   "execution_count": 98,
   "metadata": {},
   "outputs": [],
   "source": [
    "from sklearn.feature_extraction.text import TfidfVectorizer"
   ]
  },
  {
   "cell_type": "markdown",
   "metadata": {},
   "source": [
    "## Tokenizer"
   ]
  },
  {
   "cell_type": "code",
   "execution_count": 99,
   "metadata": {},
   "outputs": [],
   "source": [
    "def get_wordnet_pos(word):\n",
    "    \"\"\"Map POS tag to first character lemmatize() accepts\"\"\"\n",
    "    tag = nltk.pos_tag([word])[0][1][0].upper()\n",
    "    tag_dict = {\"J\": wordnet.ADJ,\n",
    "                \"N\": wordnet.NOUN,\n",
    "                \"V\": wordnet.VERB,\n",
    "                \"R\": wordnet.ADV}\n",
    "\n",
    "    return tag_dict.get(tag, wordnet.NOUN)"
   ]
  },
  {
   "cell_type": "code",
   "execution_count": 100,
   "metadata": {},
   "outputs": [],
   "source": [
    "def things_to_unit(a):\n",
    "    \"if 0.5km kind of that appears, convert to unitLength etc\"\n",
    "    for from_ in doc_dict:\n",
    "        idx = np.where(\n",
    "                 np.char.count(a,from_)==1\n",
    "              )\n",
    "        a[idx] = doc_dict[from_] \n",
    "    return a"
   ]
  },
  {
   "cell_type": "code",
   "execution_count": 101,
   "metadata": {},
   "outputs": [],
   "source": [
    "class LemmaTokenizer:\n",
    "    ignore_tokens = [',', '.', ';', ':', '\"', '``', \"''\", '`','(',')']\n",
    "    def __init__(self):\n",
    "        self.wnl = WordNetLemmatizer()\n",
    "    def __call__(self, doc):\n",
    "        val = []\n",
    "        for t in word_tokenize(doc):\n",
    "            if t.isdigit():\n",
    "                continue\n",
    "            if (t not in self.ignore_tokens):\n",
    "                val.append(\n",
    "                    self.wnl.lemmatize(t,get_wordnet_pos(t))\n",
    "                )\n",
    "                \n",
    "        return val"
   ]
  },
  {
   "cell_type": "code",
   "execution_count": 102,
   "metadata": {},
   "outputs": [],
   "source": [
    "class LemmaPlaceTokenizer:\n",
    "    ignore_tokens = [',', '.', ';', ':', '\"', '``', \"''\", '`','(',')']\n",
    "    def __init__(self):\n",
    "        self.wnl = WordNetLemmatizer()\n",
    "    def __call__(self, doc):\n",
    "        val = []\n",
    "        for t in word_tokenize(doc):\n",
    "            if t.isdigit():\n",
    "                val.append(\"unitN\")\n",
    "            elif (t not in self.ignore_tokens):\n",
    "                val.append(\n",
    "                    self.wnl.lemmatize(t,get_wordnet_pos(t))\n",
    "                )\n",
    "        new_val = np.array(val)\n",
    "        new_val = np.apply_along_axis(things_to_unit, 0, new_val)\n",
    "        return new_val"
   ]
  },
  {
   "cell_type": "markdown",
   "metadata": {},
   "source": [
    "## Pre processor"
   ]
  },
  {
   "cell_type": "code",
   "execution_count": 103,
   "metadata": {},
   "outputs": [],
   "source": [
    "def preprocess(document):\n",
    "    'changes document to lower case and removes stopwords'\n",
    "\n",
    "    # change sentence to lower case\n",
    "    document = document.lower()\n",
    "\n",
    "    # tokenize into words\n",
    "    words = word_tokenize(document)\n",
    "\n",
    "    # remove stop words & numbrs\n",
    "    words = [word for word in words if word not in stopwords.words(\"english\") or not word.isdigit()]\n",
    "\n",
    "\n",
    "    # join words to make sentence\n",
    "    document = \" \".join(words)\n",
    "    \n",
    "    return document"
   ]
  },
  {
   "cell_type": "markdown",
   "metadata": {},
   "source": [
    "## Let's see what are stop word"
   ]
  },
  {
   "cell_type": "code",
   "execution_count": 104,
   "metadata": {},
   "outputs": [
    {
     "name": "stdout",
     "output_type": "stream",
     "text": [
      "['i', 'me', 'my', 'myself', 'we', 'our', 'ours', 'ourselves', 'you', \"you're\", \"you've\", \"you'll\", \"you'd\", 'your', 'yours', 'yourself', 'yourselves', 'he', 'him', 'his', 'himself', 'she', \"she's\", 'her', 'hers', 'herself', 'it', \"it's\", 'its', 'itself', 'they', 'them', 'their', 'theirs', 'themselves', 'what', 'which', 'who', 'whom', 'this', 'that', \"that'll\", 'these', 'those', 'am', 'is', 'are', 'was', 'were', 'be', 'been', 'being', 'have', 'has', 'had', 'having', 'do', 'does', 'did', 'doing', 'a', 'an', 'the', 'and', 'but', 'if', 'or', 'because', 'as', 'until', 'while', 'of', 'at', 'by', 'for', 'with', 'about', 'against', 'between', 'into', 'through', 'during', 'before', 'after', 'above', 'below', 'to', 'from', 'up', 'down', 'in', 'out', 'on', 'off', 'over', 'under', 'again', 'further', 'then', 'once', 'here', 'there', 'when', 'where', 'why', 'how', 'all', 'any', 'both', 'each', 'few', 'more', 'most', 'other', 'some', 'such', 'no', 'nor', 'not', 'only', 'own', 'same', 'so', 'than', 'too', 'very', 's', 't', 'can', 'will', 'just', 'don', \"don't\", 'should', \"should've\", 'now', 'd', 'll', 'm', 'o', 're', 've', 'y', 'ain', 'aren', \"aren't\", 'couldn', \"couldn't\", 'didn', \"didn't\", 'doesn', \"doesn't\", 'hadn', \"hadn't\", 'hasn', \"hasn't\", 'haven', \"haven't\", 'isn', \"isn't\", 'ma', 'mightn', \"mightn't\", 'mustn', \"mustn't\", 'needn', \"needn't\", 'shan', \"shan't\", 'shouldn', \"shouldn't\", 'wasn', \"wasn't\", 'weren', \"weren't\", 'won', \"won't\", 'wouldn', \"wouldn't\"]\n"
     ]
    }
   ],
   "source": [
    "print(stopwords.words(\"english\"))"
   ]
  },
  {
   "cell_type": "markdown",
   "metadata": {},
   "source": [
    "## Load data"
   ]
  },
  {
   "cell_type": "code",
   "execution_count": 105,
   "metadata": {},
   "outputs": [
    {
     "name": "stderr",
     "output_type": "stream",
     "text": [
      "/Users/heejinchae/opt/anaconda3/envs/torch/lib/python3.9/site-packages/openpyxl/worksheet/_reader.py:312: UserWarning:\n",
      "\n",
      "Data Validation extension is not supported and will be removed\n",
      "\n"
     ]
    }
   ],
   "source": [
    "df = pd.read_excel(\"../../data/raw/DataCorpus_classfied_중분류_1차 연구.xlsx\")"
   ]
  },
  {
   "cell_type": "code",
   "execution_count": 106,
   "metadata": {},
   "outputs": [],
   "source": [
    "def add_type_column(df):\n",
    "    ops = df.iloc[:, 5:]\n",
    "    op_type = ops[ops.columns[1:]].apply(\n",
    "        lambda x: ','.join(x.dropna().astype(str)),\n",
    "        axis=1\n",
    "    )\n",
    "    op_type=op_type.str.lower()\n",
    "    df[\"op_type\"] = op_type\n",
    "    op_type = pd.DataFrame(op_type.unique(), columns=[\"op_type\"])\n",
    "    op_type[\"op_id\"] = op_type.index\n",
    "    op_type.to_excel(\"../../data/raw/op_type.xlsx\")\n",
    "    df = df.merge(op_type, how='left', on=\"op_type\")\n",
    "    df.to_excel(\"../../data/processed/corpora_w_op_type.xlsx\")\n",
    "    return df"
   ]
  },
  {
   "cell_type": "code",
   "execution_count": 107,
   "metadata": {},
   "outputs": [],
   "source": [
    "df = add_type_column(df)"
   ]
  },
  {
   "cell_type": "markdown",
   "metadata": {},
   "source": [
    "# 1. Type count from raw data\n",
    " Visualize initail labelled data"
   ]
  },
  {
   "cell_type": "code",
   "execution_count": 108,
   "metadata": {},
   "outputs": [
    {
     "name": "stderr",
     "output_type": "stream",
     "text": [
      "/Users/heejinchae/opt/anaconda3/envs/torch/lib/python3.9/site-packages/seaborn/_decorators.py:36: FutureWarning:\n",
      "\n",
      "Pass the following variable as a keyword arg: x. From version 0.12, the only valid positional argument will be `data`, and passing other arguments without an explicit keyword will result in an error or misinterpretation.\n",
      "\n"
     ]
    },
    {
     "data": {
      "image/png": "[encoded data removed]",
      "text/plain": [
       "<Figure size 900x900 with 1 Axes>"
      ]
     },
     "metadata": {},
     "output_type": "display_data"
    }
   ],
   "source": [
    "plt.figure(figsize=[9,9])\n",
    "plot = sns.countplot(df[\"op_id\"], palette = 'inferno')\n",
    "for p in plot.patches:\n",
    "    plot.annotate(format(p.get_height(),), (p.get_x() + p.get_width() / 2., p.get_height()), ha = 'center', va = 'center', xytext = (0, 10), textcoords = 'offset points')\n",
    "\n",
    "plt.title('operation type count', fontdict={'fontsize': 20, 'fontweight': 5, 'color': 'Green'})\n",
    "#plt.xticks(rotation=90)\n",
    "plt.show()"
   ]
  },
  {
   "cell_type": "markdown",
   "metadata": {},
   "source": [
    "# 2. Drop classes only with a value\n",
    " If a data is the only one in category, dropped <br />\n",
    " 클래스에 해당하는 데이터가 n개 인것은 제거하기로 함. 여기서는 2개 이상으로 설정했음\n",
    " "
   ]
  },
  {
   "cell_type": "code",
   "execution_count": 109,
   "metadata": {},
   "outputs": [],
   "source": [
    "df_drop_solo= df.groupby(\"op_id\").filter(lambda x: len(x) >2)\n",
    "df_drop_solo.to_excel(\"../../data/processed/corpora_unique_ops_dropped.xlsx\")"
   ]
  },
  {
   "cell_type": "code",
   "execution_count": 110,
   "metadata": {},
   "outputs": [
    {
     "name": "stdout",
     "output_type": "stream",
     "text": [
      "<class 'pandas.core.frame.DataFrame'>\n",
      "Int64Index: 151 entries, 0 to 185\n",
      "Data columns (total 24 columns):\n",
      " #   Column         Non-Null Count  Dtype  \n",
      "---  ------         --------------  -----  \n",
      " 0   Question       151 non-null    object \n",
      " 1   extents        151 non-null    object \n",
      " 2   upper level    18 non-null     object \n",
      " 3   timespan       4 non-null      object \n",
      " 4   Tag In Osm     93 non-null     object \n",
      " 5   Question type  151 non-null    object \n",
      " 6   ordinary1      151 non-null    object \n",
      " 7   ordinary2      141 non-null    object \n",
      " 8   ordinary3      115 non-null    object \n",
      " 9   ordinary4      54 non-null     object \n",
      " 10  ordinary5      33 non-null     object \n",
      " 11  ordinary6      10 non-null     object \n",
      " 12  ordinary7      5 non-null      object \n",
      " 13  ordinary8      0 non-null      object \n",
      " 14  ordinary9      0 non-null      object \n",
      " 15  ordinary10     0 non-null      object \n",
      " 16  ordinary103    0 non-null      object \n",
      " 17  ordinary102    0 non-null      object \n",
      " 18  ordinary11     0 non-null      object \n",
      " 19  Tools          5 non-null      object \n",
      " 20  Issues         14 non-null     object \n",
      " 21  Column1        0 non-null      float64\n",
      " 22  op_type        151 non-null    object \n",
      " 23  op_id          151 non-null    int64  \n",
      "dtypes: float64(1), int64(1), object(22)\n",
      "memory usage: 29.5+ KB\n"
     ]
    }
   ],
   "source": [
    "df_drop_solo.info()"
   ]
  },
  {
   "cell_type": "code",
   "execution_count": 111,
   "metadata": {},
   "outputs": [
    {
     "name": "stderr",
     "output_type": "stream",
     "text": [
      "/Users/heejinchae/opt/anaconda3/envs/torch/lib/python3.9/site-packages/seaborn/_decorators.py:36: FutureWarning:\n",
      "\n",
      "Pass the following variable as a keyword arg: x. From version 0.12, the only valid positional argument will be `data`, and passing other arguments without an explicit keyword will result in an error or misinterpretation.\n",
      "\n"
     ]
    },
    {
     "data": {
      "image/png": "[encoded data removed]",
      "text/plain": [
       "<Figure size 900x900 with 1 Axes>"
      ]
     },
     "metadata": {},
     "output_type": "display_data"
    }
   ],
   "source": [
    "plt.figure(figsize=[9,9])\n",
    "plot = sns.countplot(df_drop_solo[\"op_id\"], palette = 'inferno')\n",
    "for p in plot.patches:\n",
    "    plot.annotate(format(p.get_height(),), (p.get_x() + p.get_width() / 2., p.get_height()), ha = 'center', va = 'center', xytext = (0, 10), textcoords = 'offset points')\n",
    "\n",
    "plt.title('operation type count', fontdict={'fontsize': 20, 'fontweight': 5, 'color': 'Green'})\n",
    "#plt.xticks(rotation=90)\n",
    "plt.show()"
   ]
  },
  {
   "cell_type": "markdown",
   "metadata": {},
   "source": [
    "# 3. Paraphrase only some portion. \n",
    " Stratified sampleing. fraction = 0.8 <br />\n",
    " At this point go to [paraphraser](../../utils/main_balanced.py) and run the script and come back here"
   ]
  },
  {
   "cell_type": "code",
   "execution_count": 112,
   "metadata": {},
   "outputs": [
    {
     "name": "stdout",
     "output_type": "stream",
     "text": [
      "     Unnamed: 0.1  Unnamed: 0  \\\n",
      "0               0           0   \n",
      "1               1         168   \n",
      "2               2          45   \n",
      "3               3         151   \n",
      "4               4         178   \n",
      "..            ...         ...   \n",
      "307           307         177   \n",
      "308           308         179   \n",
      "309           309         180   \n",
      "310           310         183   \n",
      "311           311         185   \n",
      "\n",
      "                                              Question  \\\n",
      "0    how many buildings are within 3 minutes of dri...   \n",
      "1    which houses are within 2 minutes driving time...   \n",
      "2    what areas are within 15 minutes walking dista...   \n",
      "3    where are forestry lands in happy valley ski r...   \n",
      "4    which shops are open at 6 pm in happy valley s...   \n",
      "..                                                 ...   \n",
      "307  Which schools are not within 3 minutes of driv...   \n",
      "308  Which vacant lots are within 1 mile of a freew...   \n",
      "309   Which visitor facilities are in the Happy Valley   \n",
      "310  Which wind farm proposals are nearest to the h...   \n",
      "311  Which wind farm proposals are nearest to the r...   \n",
      "\n",
      "                     extents upper level timespan  \\\n",
      "0                   Oleander         NaN      NaN   \n",
      "1                   Oleander         NaN      NaN   \n",
      "2                      Kochi       India      NaN   \n",
      "3    Happy Valley ski resort         NaN      NaN   \n",
      "4    Happy Valley ski resort         NaN      NaN   \n",
      "..                       ...         ...      ...   \n",
      "307               Fort Worth         NaN      NaN   \n",
      "308                Hillsboro         NaN      NaN   \n",
      "309         the Happy Valley         NaN      NaN   \n",
      "310                 Scotland         NaN      NaN   \n",
      "311                 Scotland         NaN      NaN   \n",
      "\n",
      "                                   Tag In Osm Question type     ordinary1  \\\n",
      "0                       building=*, highway=*          done  Data queries   \n",
      "1                        amenity=fire_station          done  Data queries   \n",
      "2    highway=*,railway=station,station=subway          done  Data queries   \n",
      "3                        Tag:landuse=forestry          done  Data queries   \n",
      "4                             opening_hours=*          done  Data queries   \n",
      "..                                        ...           ...           ...   \n",
      "307      amenity=fire_station, amenity=school          done  Data queries   \n",
      "308           abandoned:*=*, highway=motorway          done  Data queries   \n",
      "309                information=visitor_centre          done  Data queries   \n",
      "310                                 highway=*          done  Data queries   \n",
      "311                                 highway=*          done  Data queries   \n",
      "\n",
      "            ordinary2  ... ordinary10 ordinary103 ordinary102 ordinary11  \\\n",
      "0    Network analysis  ...        NaN         NaN         NaN        NaN   \n",
      "1    Network analysis  ...        NaN         NaN         NaN        NaN   \n",
      "2    Network analysis  ...        NaN         NaN         NaN        NaN   \n",
      "3                 NaN  ...        NaN         NaN         NaN        NaN   \n",
      "4                 NaN  ...        NaN         NaN         NaN        NaN   \n",
      "..                ...  ...        ...         ...         ...        ...   \n",
      "307  Network analysis  ...        NaN         NaN         NaN        NaN   \n",
      "308            buffer  ...        NaN         NaN         NaN        NaN   \n",
      "309               NaN  ...        NaN         NaN         NaN        NaN   \n",
      "310  network analysis  ...        NaN         NaN         NaN        NaN   \n",
      "311  network analysis  ...        NaN         NaN         NaN        NaN   \n",
      "\n",
      "    Tools  Issues  Column1                                            op_type  \\\n",
      "0     NaN     NaN      NaN  data queries,network analysis,classification,d...   \n",
      "1     NaN     NaN      NaN  data queries,network analysis,classification,d...   \n",
      "2     NaN     NaN      NaN  data queries,network analysis,classification,d...   \n",
      "3     NaN     NaN      NaN                                       data queries   \n",
      "4     NaN     NaN      NaN                                       data queries   \n",
      "..    ...     ...      ...                                                ...   \n",
      "307   NaN     NaN      NaN  data queries,network analysis,classification,d...   \n",
      "308   NaN     NaN      NaN  data queries,buffer,overlay analysis,data queries   \n",
      "309   NaN     NaN      NaN                                       data queries   \n",
      "310   NaN     NaN      NaN         data queries,network analysis,data queries   \n",
      "311   NaN     NaN      NaN         data queries,network analysis,data queries   \n",
      "\n",
      "     op_id  for train  \n",
      "0        0       True  \n",
      "1        0       True  \n",
      "2        0       True  \n",
      "3        1       True  \n",
      "4        1       True  \n",
      "..     ...        ...  \n",
      "307      5      False  \n",
      "308     28      False  \n",
      "309      1      False  \n",
      "310      4      False  \n",
      "311      4      False  \n",
      "\n",
      "[312 rows x 27 columns]\n"
     ]
    }
   ],
   "source": [
    "tr_te_set = pd.read_excel(\"../../data/processed/train_test_only_paraphrased.xlsx\")\n",
    "print(tr_te_set)"
   ]
  },
  {
   "cell_type": "code",
   "execution_count": 113,
   "metadata": {},
   "outputs": [
    {
     "name": "stderr",
     "output_type": "stream",
     "text": [
      "/Users/heejinchae/opt/anaconda3/envs/torch/lib/python3.9/site-packages/seaborn/_decorators.py:36: FutureWarning:\n",
      "\n",
      "Pass the following variable as a keyword arg: x. From version 0.12, the only valid positional argument will be `data`, and passing other arguments without an explicit keyword will result in an error or misinterpretation.\n",
      "\n"
     ]
    },
    {
     "data": {
      "image/png": "[encoded data removed]",
      "text/plain": [
       "<Figure size 900x900 with 1 Axes>"
      ]
     },
     "metadata": {},
     "output_type": "display_data"
    }
   ],
   "source": [
    "plt.figure(figsize=[9,9])\n",
    "plot = sns.countplot(tr_te_set[\"op_id\"], palette = 'inferno')\n",
    "for p in plot.patches:\n",
    "    plot.annotate(format(p.get_height(),), (p.get_x() + p.get_width() / 2., p.get_height()), ha = 'center', va = 'center', xytext = (0, 10), textcoords = 'offset points')\n",
    "\n",
    "plt.title('operation type count', fontdict={'fontsize': 20, 'fontweight': 5, 'color': 'Green'})\n",
    "#plt.xticks(rotation=90)\n",
    "plt.show()"
   ]
  },
  {
   "cell_type": "markdown",
   "metadata": {},
   "source": [
    "# 4. Preprocessing"
   ]
  },
  {
   "cell_type": "code",
   "execution_count": 114,
   "metadata": {},
   "outputs": [],
   "source": [
    "questions = tr_te_set[\"Question\"].str.lower()\n",
    "tr_or_test = tr_te_set[\"for train\"]\n",
    "labels = tr_te_set[\"op_id\"]"
   ]
  },
  {
   "cell_type": "markdown",
   "metadata": {},
   "source": [
    "## 4.1 Remove stopword, lemmartization etc...\n",
    " pos tag for stamming <br /> \n",
    " ex) <br /> \n",
    " ***before*** \"The striped bats are hanging on their feet for best\" -> ['The', 'striped', 'bat', 'are', 'hanging', 'on', 'their', 'foot', 'for', 'best'] <br />\n",
    " ***after*** \"The striped bats are hanging on their feet for best\" -> ['The', ***'strip'***, 'bat', ***'be'***, ***'hang'***, 'on', 'their', 'foot', 'for', 'best'] \n",
    " <br />\n",
    " <br />\n",
    " Also ***delete numbers***, cause those are not that important <br />\n",
    " ex) how many buildings are within ***3*** minutes of driving time from fire stations in oleander <br /> -->\n",
    " ['how', 'many', 'building', 'be', 'within', 'minute', 'of', 'drive', 'time', 'from', 'fire', 'station', 'in', 'oleander'] <br />\n",
    " what are the four fire stations within 3 minutes of travel time from a fire in san francisco <br />\n",
    " ['what' 'be' 'the' ***'four'*** 'fire' 'station' 'within' 'unitTime' 'of' 'travel' 'time' 'from' 'a' 'fire' 'in' 'san' 'francisco']"
   ]
  },
  {
   "cell_type": "code",
   "execution_count": 115,
   "metadata": {},
   "outputs": [
    {
     "name": "stdout",
     "output_type": "stream",
     "text": [
      "org:what areas are within 15 minutes walking distance of a metro rail station in kochi in india, \n",
      "lem:what area be within unitN unitT walk distance of a metro rail station in kochi in india\n"
     ]
    }
   ],
   "source": [
    "# proccessed vs not processed 비교 해볼 것\n",
    "# Not Preprocessed\n",
    "questions_org = [question for question in questions]\n",
    "# preprocessed\n",
    "questions_lem = [preprocess(question) for question in questions]\n",
    "que_ = questions[5]\n",
    "lemm = LemmaPlaceTokenizer()\n",
    "in_ = que_\n",
    "questions_lem = [\" \".join(lemm(question)) for question in questions]\n",
    "lo_ = 2\n",
    "print(f\"org:{questions_org[lo_]}, \\nlem:{questions_lem[lo_]}\")\n"
   ]
  },
  {
   "cell_type": "markdown",
   "metadata": {},
   "source": [
    "## 4.2 Vectorize with TfIdf"
   ]
  },
  {
   "cell_type": "code",
   "execution_count": 116,
   "metadata": {},
   "outputs": [
    {
     "data": {
      "text/plain": [
       "(312, 297)"
      ]
     },
     "execution_count": 116,
     "metadata": {},
     "output_type": "execute_result"
    }
   ],
   "source": [
    "# vectorizer = TfidfVectorizer()\n",
    "vectorizer = TfidfVectorizer(sublinear_tf=True, min_df=1, norm='l2', encoding='utf-8',\n",
    " stop_words=None,\n",
    " )\n",
    "features = vectorizer.fit_transform(questions_lem).toarray()\n",
    "features.shape"
   ]
  },
  {
   "cell_type": "markdown",
   "metadata": {},
   "source": [
    "# 5. classify"
   ]
  },
  {
   "cell_type": "code",
   "execution_count": 117,
   "metadata": {},
   "outputs": [
    {
     "name": "stderr",
     "output_type": "stream",
     "text": [
      "/Users/heejinchae/opt/anaconda3/envs/torch/lib/python3.9/site-packages/sklearn/utils/deprecation.py:87: FutureWarning:\n",
      "\n",
      "Function get_feature_names is deprecated; get_feature_names is deprecated in 1.0 and will be removed in 1.2. Please use get_feature_names_out instead.\n",
      "\n"
     ]
    }
   ],
   "source": [
    "tfidf = pd.DataFrame(features, columns = vectorizer.get_feature_names())\n",
    "tfidf_w_question = tfidf.copy()\n",
    "tfidf_w_question[\"Question\"] = tr_te_set[\"Question\"]\n",
    "tfidf_w_question[\"processed_question\"] = questions_lem\n",
    "tfidf_w_question[\"op_id\"] = tr_te_set[\"op_id\"]\n",
    "tfidf_w_question.to_excel(\"../../data/processed/tfidf_vectorized.xlsx\")"
   ]
  },
  {
   "cell_type": "code",
   "execution_count": 118,
   "metadata": {},
   "outputs": [
    {
     "data": {
      "image/png": "[encoded data removed]",
      "text/plain": [
       "<Figure size 640x480 with 1 Axes>"
      ]
     },
     "metadata": {},
     "output_type": "display_data"
    }
   ],
   "source": [
    "from sklearn.linear_model import LogisticRegression\n",
    "from sklearn.ensemble import RandomForestClassifier\n",
    "from sklearn.svm import LinearSVC\n",
    "from sklearn.model_selection import cross_val_score\n",
    "from sklearn.svm import SVC\n",
    "from sklearn.tree import DecisionTreeClassifier\n",
    "from sklearn.naive_bayes import MultinomialNB\n",
    "\n",
    "models = [\n",
    "    RandomForestClassifier(n_estimators=200, max_depth=3, random_state=0),\n",
    "    LinearSVC(),\n",
    "    MultinomialNB(),\n",
    "    LogisticRegression(random_state=0),\n",
    "    SVC(kernel=\"linear\", C=0.025),\n",
    "    DecisionTreeClassifier(max_depth=5),\n",
    "]\n",
    "\n",
    "CV = 3\n",
    "cv_df = pd.DataFrame(index=range(CV * len(models)))\n",
    "\n",
    "entries = []\n",
    "for model in models:\n",
    "    model_name = model.__class__.__name__\n",
    "    accuracies = cross_val_score(model, features, labels, scoring='accuracy', cv=CV)\n",
    "    for fold_idx, accuracy in enumerate(accuracies):\n",
    "        entries.append((model_name, fold_idx, accuracy))\n",
    "cv_df = pd.DataFrame(entries, columns=['model_name', 'fold_idx', 'accuracy'])\n",
    "\n",
    "import seaborn as sns\n",
    "sns.boxplot(x='model_name', y='accuracy', data=cv_df)\n",
    "sns.stripplot(x='model_name', y='accuracy', data=cv_df, \n",
    "              size=10, jitter=True, edgecolor=\"gray\", linewidth=2)\n",
    "plt.show()"
   ]
  },
  {
   "cell_type": "code",
   "execution_count": 119,
   "metadata": {},
   "outputs": [
    {
     "data": {
      "text/plain": [
       "model_name\n",
       "DecisionTreeClassifier    0.423077\n",
       "LinearSVC                 0.926282\n",
       "LogisticRegression        0.871795\n",
       "MultinomialNB             0.746795\n",
       "RandomForestClassifier    0.695513\n",
       "SVC                       0.208333\n",
       "Name: accuracy, dtype: float64"
      ]
     },
     "execution_count": 119,
     "metadata": {},
     "output_type": "execute_result"
    }
   ],
   "source": [
    "# Accuracy score\n",
    "cv_df.groupby('model_name').accuracy.mean()"
   ]
  },
  {
   "cell_type": "code",
   "execution_count": 120,
   "metadata": {},
   "outputs": [],
   "source": [
    "model = LinearSVC()"
   ]
  },
  {
   "cell_type": "code",
   "execution_count": 121,
   "metadata": {},
   "outputs": [],
   "source": [
    "train_bool = tr_te_set[\"for train\"]==True\n",
    "test_bool = ~train_bool\n",
    "X_train_q_tag = tfidf_w_question[train_bool]\n",
    "X_test_q_tag = tfidf_w_question[~train_bool]\n",
    "y_train = X_train_q_tag[\"op_id\"]\n",
    "y_test = X_test_q_tag[\"op_id\"]\n",
    "X_train = X_train_q_tag.drop(columns=[\"Question\",\"processed_question\",\"op_id\"])\n",
    "X_test = X_test_q_tag.drop(columns=[\"Question\",\"processed_question\",\"op_id\"])\n",
    "indices_train = y_train.index\n",
    "indices_test = y_test.index"
   ]
  },
  {
   "cell_type": "markdown",
   "metadata": {},
   "source": [
    "# Pick model and run"
   ]
  },
  {
   "cell_type": "code",
   "execution_count": 122,
   "metadata": {},
   "outputs": [
    {
     "name": "stdout",
     "output_type": "stream",
     "text": [
      "[0, 1, 2, 4, 5, 9, 10, 13, 19, 23, 24, 25, 26, 28, 29, 30, 34, 36, 41, 44, 47]\n"
     ]
    },
    {
     "data": {
      "image/png": "[encoded data removed]",
      "text/plain": [
       "<Figure size 1500x1500 with 2 Axes>"
      ]
     },
     "metadata": {},
     "output_type": "display_data"
    }
   ],
   "source": [
    "model = LinearSVC()\n",
    "\n",
    "model.fit(X_train, y_train)\n",
    "y_pred = model.predict(X_test)\n",
    "from sklearn.metrics import confusion_matrix\n",
    "conf_mat = confusion_matrix(y_test, y_pred)\n",
    "print(sorted(list(set(labels.values))))\n",
    "\n",
    "fig, ax = plt.subplots(figsize=(15,15))\n",
    "sns.heatmap(conf_mat, annot=True, fmt='d',\n",
    "            xticklabels=sorted(list(set(labels.values))), \n",
    "            yticklabels=sorted(list(set(labels.values)))\n",
    "            )\n",
    "plt.ylabel('Actual')\n",
    "plt.xlabel('Predicted')\n",
    "plt.show()"
   ]
  },
  {
   "cell_type": "code",
   "execution_count": 123,
   "metadata": {},
   "outputs": [
    {
     "name": "stdout",
     "output_type": "stream",
     "text": [
      "['0', '1', '2', '4', '5', '9', '10', '13', '19', '23', '24', '25', '26', '28', '29', '30', '34', '36', '41', '44', '47']\n",
      "accuracy 0.76\n",
      "              precision    recall  f1-score   support\n",
      "\n",
      "           0       1.00      1.00      1.00         3\n",
      "           1       0.33      0.20      0.25         5\n",
      "           2       0.00      0.00      0.00         1\n",
      "           4       1.00      1.00      1.00         3\n",
      "           5       1.00      1.00      1.00         3\n",
      "           9       0.50      0.33      0.40         3\n",
      "          10       0.79      0.85      0.81        13\n",
      "          13       0.50      1.00      0.67         3\n",
      "          19       1.00      1.00      1.00         3\n",
      "          23       0.50      1.00      0.67         1\n",
      "          24       0.00      0.00      0.00         2\n",
      "          25       0.50      1.00      0.67         1\n",
      "          26       0.75      1.00      0.86         3\n",
      "          28       0.50      0.33      0.40         3\n",
      "          29       0.75      1.00      0.86         3\n",
      "          30       0.50      1.00      0.67         3\n",
      "          34       1.00      1.00      1.00         4\n",
      "          36       1.00      1.00      1.00         3\n",
      "          41       1.00      0.57      0.73         7\n",
      "          44       1.00      1.00      1.00         3\n",
      "          47       0.75      0.60      0.67         5\n",
      "\n",
      "    accuracy                           0.76        75\n",
      "   macro avg       0.68      0.76      0.70        75\n",
      "weighted avg       0.75      0.76      0.74        75\n",
      "\n"
     ]
    },
    {
     "name": "stderr",
     "output_type": "stream",
     "text": [
      "/Users/heejinchae/opt/anaconda3/envs/torch/lib/python3.9/site-packages/sklearn/metrics/_classification.py:1334: UndefinedMetricWarning:\n",
      "\n",
      "Precision and F-score are ill-defined and being set to 0.0 in labels with no predicted samples. Use `zero_division` parameter to control this behavior.\n",
      "\n",
      "/Users/heejinchae/opt/anaconda3/envs/torch/lib/python3.9/site-packages/sklearn/metrics/_classification.py:1334: UndefinedMetricWarning:\n",
      "\n",
      "Precision and F-score are ill-defined and being set to 0.0 in labels with no predicted samples. Use `zero_division` parameter to control this behavior.\n",
      "\n",
      "/Users/heejinchae/opt/anaconda3/envs/torch/lib/python3.9/site-packages/sklearn/metrics/_classification.py:1334: UndefinedMetricWarning:\n",
      "\n",
      "Precision and F-score are ill-defined and being set to 0.0 in labels with no predicted samples. Use `zero_division` parameter to control this behavior.\n",
      "\n"
     ]
    }
   ],
   "source": [
    "from sklearn import metrics\n",
    "\n",
    "some_key = tfidf_w_question['op_id'].unique().astype('str').tolist()\n",
    "print(some_key)\n",
    "print('accuracy %s' % metrics.accuracy_score(y_pred, y_test))\n",
    "print(metrics.classification_report(y_test, y_pred, target_names=some_key))"
   ]
  },
  {
   "cell_type": "markdown",
   "metadata": {},
   "source": [
    "# Visualize w/ PCA"
   ]
  },
  {
   "cell_type": "code",
   "execution_count": 124,
   "metadata": {},
   "outputs": [],
   "source": [
    "import matplotlib.pyplot as plt\n",
    "from sklearn import svm, datasets\n",
    "from sklearn.inspection import DecisionBoundaryDisplay\n",
    "from sklearn.decomposition import PCA\n"
   ]
  },
  {
   "cell_type": "code",
   "execution_count": 130,
   "metadata": {},
   "outputs": [
    {
     "data": {
      "application/vnd.plotly.v1+json": {
       "config": {
        "plotlyServerURL": "https://plot.ly"
       },
       "data": [
        {
         "hovertemplate": "0=%{x}<br>1=%{y}<br>color=%{marker.color}<extra></extra>",
         "legendgroup": "",
         "marker": {
          "color": [
           0,
           0,
           0,
           1,
           1,
           1,
           1,
           1,
           2,
           2,
           4,
           4,
           4,
           4,
           5,
           5,
           9,
           9,
           9,
           9,
           10,
           10,
           10,
           10,
           10,
           10,
           10,
           10,
           10,
           10,
           10,
           10,
           13,
           13,
           13,
           19,
           19,
           23,
           23,
           24,
           24,
           25,
           25,
           26,
           26,
           26,
           26,
           28,
           28,
           28,
           28,
           29,
           29,
           29,
           30,
           30,
           30,
           34,
           34,
           34,
           34,
           36,
           36,
           41,
           41,
           41,
           41,
           41,
           41,
           44,
           44,
           47,
           47,
           47,
           47,
           47,
           0,
           0,
           0,
           0,
           0,
           0,
           1,
           1,
           2,
           2,
           4,
           4,
           4,
           4,
           4,
           4,
           4,
           9,
           9,
           9,
           9,
           9,
           9,
           9,
           9,
           9,
           9,
           9,
           9,
           10,
           10,
           10,
           10,
           10,
           10,
           10,
           10,
           10,
           10,
           13,
           13,
           13,
           13,
           13,
           13,
           13,
           13,
           13,
           13,
           19,
           19,
           19,
           23,
           23,
           23,
           23,
           23,
           23,
           23,
           23,
           23,
           24,
           24,
           24,
           24,
           24,
           24,
           24,
           24,
           24,
           25,
           25,
           25,
           25,
           25,
           25,
           26,
           26,
           26,
           26,
           26,
           26,
           26,
           26,
           26,
           26,
           26,
           26,
           26,
           26,
           26,
           26,
           26,
           26,
           26,
           26,
           26,
           26,
           26,
           26,
           26,
           26,
           26,
           26,
           28,
           28,
           28,
           28,
           28,
           28,
           28,
           28,
           28,
           29,
           29,
           29,
           30,
           30,
           30,
           30,
           30,
           30,
           30,
           30,
           30,
           30,
           34,
           34,
           34,
           34,
           34,
           34,
           34,
           34,
           36,
           36,
           36,
           36,
           36,
           36,
           41,
           41,
           41,
           41,
           41,
           41,
           41,
           44,
           44,
           44,
           47,
           47,
           47,
           47,
           47,
           47,
           47,
           47,
           47,
           47,
           47,
           1,
           0,
           4,
           10,
           10,
           13,
           13,
           13,
           1,
           1,
           10,
           10,
           10,
           10,
           10,
           0,
           10,
           19,
           19,
           19,
           10,
           10,
           10,
           0,
           10,
           10,
           23,
           24,
           26,
           26,
           26,
           24,
           29,
           29,
           29,
           28,
           30,
           30,
           30,
           9,
           36,
           36,
           36,
           41,
           41,
           41,
           41,
           41,
           41,
           9,
           41,
           44,
           44,
           44,
           34,
           34,
           34,
           34,
           25,
           28,
           47,
           47,
           47,
           47,
           9,
           1,
           2,
           47,
           5,
           5,
           5,
           28,
           1,
           4,
           4
          ],
          "coloraxis": "coloraxis",
          "symbol": "circle"
         },
         "mode": "markers",
         "name": "",
         "orientation": "v",
         "showlegend": false,
         "type": "scatter",
         "x": [
          -0.18618930977399248,
          -0.25325486648733814,
          -0.08983271346919529,
          -0.1274271762644369,
          -0.09312869760276828,
          -0.10100365940994573,
          -0.07928643320524635,
          -0.10886079391857058,
          -0.11140331319441803,
          -0.13154796428006307,
          -0.0837485360547612,
          -0.1410312844229991,
          -0.15241929136056717,
          -0.1613720379221099,
          -0.1296440582780185,
          -0.18416176703418913,
          -0.039096516103789405,
          -0.196449640121855,
          -0.10008947659453195,
          -0.11845406665149955,
          -0.03658349581487165,
          0.06317048214437308,
          -0.03981632581760221,
          -0.04979252099559732,
          0.21349387595993305,
          -0.045554741279203455,
          -0.06734970877706256,
          0.014899780513185626,
          0.001494972229479119,
          -0.0023413017739465024,
          -0.043567445154360895,
          0.02131880041796356,
          -0.12532816226182236,
          -0.08608883858758155,
          -0.12401623166442564,
          -0.18922700360039885,
          -0.19249847138852114,
          -0.10054042429384732,
          -0.10110757516213147,
          0.41104892806324395,
          0.25577260129165375,
          -0.06986577410380218,
          0.23869800504821256,
          0.21372903697323647,
          0.7080133676774809,
          0.6941106733881838,
          0.7163841511471926,
          -0.16768222263041707,
          -0.05459554127500895,
          -0.03873628577209624,
          -0.0389072681880949,
          -0.06505286732247516,
          -0.217287330974432,
          -0.2353510534202086,
          -0.22787290060031076,
          -0.21651520308460534,
          0.08911207995960743,
          -0.20504290163812985,
          -0.13025329586285364,
          -0.09510635919530248,
          -0.19219693624064296,
          -0.09350927017977881,
          -0.09211386881102078,
          -0.039918713609916084,
          -0.13957302533821786,
          -0.06457221105735286,
          -0.14167905656501606,
          -0.1701849344155569,
          -0.15009508327838103,
          -0.12100414481581481,
          -0.10313486582405584,
          0.035644700516197766,
          -0.11423366757366812,
          -0.0944519450483212,
          -0.12466094599127156,
          -0.1904182012981107,
          -0.18227388725495064,
          -0.18227388725495064,
          -0.18618930977399192,
          -0.22221072907122622,
          -0.09947178780792898,
          -0.0909818001444025,
          -0.08968566809070126,
          -0.09312869760276837,
          -0.10210998320138086,
          -0.11094365152024005,
          -0.13291112635830585,
          -0.15203358903656192,
          -0.14456747644081083,
          -0.14851940598900898,
          -0.14851940598900898,
          -0.15184883238753966,
          -0.16137203792210994,
          -0.059455349103816786,
          -0.03909651610378941,
          -0.02632005722162404,
          -0.03909651610378941,
          -0.03909651610378941,
          -0.1837785084240793,
          -0.19570692366569348,
          -0.20141505463849574,
          -0.20208960568312873,
          -0.19570692366569348,
          -0.10008947659453193,
          -0.11668860150365735,
          -0.07816810244147138,
          -0.06734970877706258,
          -0.009126775914708701,
          -0.004796487294739861,
          0.014899780513185624,
          -0.010649075169667075,
          0.0027273627543667233,
          -0.004623610900005108,
          0.003878740441687962,
          0.021318800417963562,
          -0.12532816226182236,
          -0.08608883858758155,
          -0.10544798004935595,
          -0.09825489991674889,
          -0.09825489991674889,
          -0.08608883858758155,
          -0.12401623166442564,
          -0.09231585614242506,
          -0.12401623166442564,
          -0.12401623166442564,
          -0.19886414753407056,
          -0.21048619535075141,
          -0.20390966599544713,
          -0.0977895040741807,
          -0.1194216258876319,
          -0.11128771136884635,
          -0.12119716267051274,
          -0.11178462941566927,
          -0.10902250822818249,
          -0.10134956403635466,
          -0.10835200451979843,
          -0.09962612933841218,
          0.4082241909711191,
          0.43737727498536916,
          0.4082241909711191,
          0.41104892806324395,
          0.41104892806324395,
          0.39418862015634937,
          0.39418862015634937,
          0.2804695394906019,
          0.2804695394906019,
          0.2700606181817548,
          0.2700606181817548,
          0.2569110131690987,
          0.24180429126061825,
          0.12521715542973744,
          0.2569110131690987,
          0.12154553394364244,
          0.11239740008314213,
          0.23069997545125728,
          0.23069997545125728,
          0.7158904159777806,
          0.6738255981301343,
          0.7158904159777806,
          0.6784722579952986,
          0.6891375060874156,
          0.7158904159777806,
          0.7158904159777806,
          0.6808248491731113,
          0.7080133676774809,
          0.6676490294857981,
          0.6535571165617016,
          0.6941106733881838,
          0.6676490294857981,
          0.6941106733881838,
          0.6178144268034573,
          0.6585184840688499,
          0.6416811955778011,
          0.6416811955778011,
          0.6873001864750338,
          0.6911827650153074,
          0.6585184840688499,
          0.6585184840688499,
          0.6873001864750338,
          0.6873001864750338,
          -0.05056153083126093,
          -0.05056153083126093,
          -0.03873628577209624,
          -0.03574656058792343,
          -0.04707245119774562,
          -0.03526818800385104,
          -0.03526818800385104,
          -0.05076809427913675,
          -0.05076809427913675,
          -0.03830947120208469,
          -0.18662891117183672,
          -0.22001605420774947,
          -0.2020593586768302,
          -0.2020593586768302,
          -0.22946976002492575,
          -0.19646962688665418,
          -0.22946976002492575,
          -0.22099696125543278,
          -0.22538161740563215,
          -0.21633168453416213,
          -0.22550422961903377,
          -0.22550422961903377,
          -0.18954800761475263,
          -0.2043003237445857,
          -0.20504290163812985,
          -0.13234163203914423,
          -0.12090287372780081,
          -0.13025329586285364,
          -0.19903421633789034,
          -0.19983189157008993,
          -0.08756002058148285,
          -0.0731241761466508,
          -0.0731241761466508,
          -0.09211386881102078,
          -0.0731241761466508,
          -0.09211386881102078,
          -0.03794194566285083,
          -0.1467976858311725,
          -0.14694628619116706,
          -0.14920077119622863,
          -0.14920077119622863,
          -0.14585754088180264,
          -0.14850268732318025,
          -0.11646017757499837,
          -0.13772410854259465,
          -0.10698217846328065,
          0.035515389207504626,
          0.03652988340500698,
          0.0346173026609035,
          0.035644700516197766,
          -0.09044692096983722,
          -0.1278581225751854,
          -0.13076186723025313,
          -0.1794007975871119,
          -0.19461570926124352,
          -0.19540770088359616,
          -0.18957866987796018,
          -0.11722993515391664,
          -0.12788445835358075,
          -0.1812419481976256,
          -0.043473970674627695,
          0.012306894561837357,
          -0.06733104262500741,
          -0.1249847998149566,
          -0.0832040658521267,
          -0.10152133524042176,
          -0.08867503561326225,
          0.19952685531362077,
          -0.03658349581487165,
          0.06023749390290363,
          -0.04035488168432762,
          0.016470653397406384,
          -0.14143595878814272,
          0.014571055433658357,
          -0.1935591500831901,
          -0.1912374159688527,
          -0.1992347412703291,
          0.005834462864682624,
          -0.04020908609355994,
          -0.036877550552976195,
          -0.07188910285822717,
          -0.06659810125549502,
          -0.07841453660007822,
          -0.09274919303088179,
          0.1364077300023737,
          0.18520202920204887,
          0.6176295578033466,
          0.7488971778512273,
          0.3674885512893495,
          -0.056666267301385305,
          -0.03504853334998799,
          -0.23125287700299121,
          -0.18918988653059748,
          -0.23067785833344664,
          0.0543670312360532,
          0.03195608476431951,
          -0.028502055895815562,
          -0.09586404018991806,
          -0.09763650015053893,
          -0.09019042407229216,
          0.025235170848038634,
          -0.0547385710634984,
          -0.1100731594945174,
          -0.13643939000670569,
          -0.11545989760733066,
          -0.060044718698873775,
          -0.09864997723752196,
          -0.06271052295103742,
          -0.12933081081472134,
          -0.1315048890717474,
          -0.07730455406611055,
          -0.19282011272726873,
          -0.1747026671108196,
          -0.1960216577808879,
          -0.19934332744055314,
          -0.05646300026773096,
          -0.04203029451676637,
          -0.08622006693797736,
          -0.08327592566536594,
          -0.08601350070921465,
          -0.050020971894440006,
          -0.26175094178132474,
          -0.012052466813739705,
          -0.10660073295567545,
          -0.13637072580254858,
          -0.1963388413108006,
          -0.18865517688979538,
          -0.1862468696907867,
          -0.07393554414476776,
          -0.0947192053814277,
          -0.1584236064598081,
          -0.14795343024366775
         ],
         "xaxis": "x",
         "y": [
          0.30081419605426374,
          0.534973550706425,
          0.08039842367618148,
          -0.28924423699473556,
          -0.17807154108837744,
          -0.11476340199791764,
          -0.24332980748858335,
          -0.2223370315923857,
          -0.03751115449379538,
          -0.11982886385894596,
          -0.018422913623746526,
          -0.08447754151826778,
          -0.09553621642508829,
          -0.1030257287959298,
          0.23096655194369364,
          0.31205611876660183,
          -0.14383377514558177,
          -0.46665408425932764,
          -0.04722945463269257,
          -0.12803029947374597,
          0.13156548768465545,
          0.0666536917587663,
          0.13969727694870204,
          0.07577003701845017,
          0.09473539996221089,
          0.232208774500066,
          0.007673343034992766,
          0.2922128848379393,
          0.05219470414721884,
          0.027359110592578874,
          0.1639096681241537,
          0.20184403542601254,
          -0.08622853475052776,
          -0.10150199906830551,
          -0.09586797474065048,
          0.48541068938783144,
          0.48328862933485667,
          -0.02583661629337042,
          -0.03379784162991863,
          -0.030691349377230868,
          -0.06778443923748334,
          -0.01721969887253638,
          -0.04258890649786329,
          -0.0835648192947334,
          -0.010917456464221726,
          0.01825571452657159,
          0.013189602465095455,
          0.26150707093813563,
          0.24052655138396878,
          0.19021650705834492,
          0.20855763142134412,
          0.5070355328061166,
          0.4633011914030023,
          0.4902541652688564,
          0.1701769567430189,
          0.15205988961489447,
          0.16324373332743977,
          -0.43110183487733533,
          -0.08946765678184154,
          -0.10656096350047634,
          -0.3939993417664535,
          -0.09154418777406656,
          -0.015642835218065802,
          -0.09260552232202017,
          -0.07580192978360414,
          -0.018771114157153643,
          -0.07056957138501042,
          -0.0014796421110652273,
          -0.0643311828341752,
          -0.07698950821533089,
          -0.033878136594897114,
          -0.2869188381369703,
          -0.29167420974844566,
          -0.27723045297280935,
          -0.11080988974357145,
          -0.4000348678482612,
          0.2950260617327436,
          0.2950260617327436,
          0.30081419605426457,
          0.5260900317248203,
          0.1077112501308024,
          0.09477782903281706,
          -0.17050135000660993,
          -0.17807154108837744,
          -0.06517093434029482,
          -0.1212803129962648,
          -0.13050335854349557,
          -0.14803115621948684,
          -0.13923497824947156,
          -0.15355358144298098,
          -0.15355358144298098,
          -0.15221204655724052,
          -0.10302572879592976,
          -0.1282157347359609,
          -0.1438337751455818,
          -0.13096028642640598,
          -0.1438337751455818,
          -0.1438337751455818,
          -0.4194570832995051,
          -0.46951690667310014,
          -0.4699965237356228,
          -0.46704689350633294,
          -0.46951690667310014,
          -0.047229454632692576,
          -0.12470797066289056,
          0.024634690445181663,
          0.007673343034992766,
          0.31826648682134123,
          0.3034429062261808,
          0.2922128848379393,
          0.1195737852090679,
          0.1035609303756392,
          0.09366499858136407,
          0.21672179152212873,
          0.20184403542601254,
          -0.08622853475052776,
          -0.10150199906830551,
          -0.11183724086291708,
          -0.07901736028272525,
          -0.07901736028272525,
          -0.10150199906830551,
          -0.09586797474065048,
          -0.09277463499787844,
          -0.09586797474065048,
          -0.09586797474065048,
          0.4049896719188541,
          0.483653856561256,
          0.4757509759974687,
          -0.05517677103795715,
          -0.04622111102017608,
          -0.0609876000658055,
          -0.032833034060596976,
          -0.04990477325106405,
          -0.04184140006137441,
          -0.05546260431149993,
          -0.029738356878507458,
          -0.04510471092232008,
          -0.045065090909721425,
          -0.04061448933188964,
          -0.045065090909721425,
          -0.030691349377230868,
          -0.030691349377230868,
          -0.06071987123458563,
          -0.06071987123458563,
          -0.08099369677940614,
          -0.08099369677940614,
          -0.02266035659015453,
          -0.02266035659015453,
          -0.03908669226535873,
          -0.022751624252342693,
          -0.11019961334946633,
          -0.03908669226535873,
          -0.0786010940689984,
          -0.08515241792152378,
          -0.0795841165734422,
          -0.0795841165734422,
          0.007169955492472018,
          0.004654789226338975,
          0.007169955492472018,
          -0.005654030486381333,
          0.024323491852305666,
          0.007169955492472018,
          0.007169955492472018,
          0.006822404662396401,
          -0.010917456464221726,
          0.03523755819744881,
          0.014756324189561945,
          0.01825571452657159,
          0.03523755819744881,
          0.01825571452657159,
          0.03493117703988767,
          0.04090601069894095,
          0.018530675814505085,
          0.018530675814505085,
          0.023196211429341394,
          0.041475208985140975,
          0.04090601069894095,
          0.04090601069894095,
          0.023196211429341394,
          0.023196211429341394,
          0.20386496793433184,
          0.20386496793433184,
          0.19021650705834492,
          0.21167861784361344,
          0.21463402892488537,
          0.2012744663953811,
          0.2012744663953811,
          0.2218387301870989,
          0.2218387301870989,
          0.49702294974250294,
          0.47333001974441896,
          0.4879829015413402,
          0.1284597079421131,
          0.1284597079421131,
          0.17714633881897024,
          0.17909791920004364,
          0.17714633881897024,
          0.16187375138791815,
          0.17357734111973924,
          0.1572597280651858,
          0.16843327907186698,
          0.16843327907186698,
          -0.43946960497578835,
          -0.4327837296023113,
          -0.43110183487733533,
          -0.11835964935603839,
          -0.1008510523202783,
          -0.08946765678184154,
          -0.41075379747399776,
          -0.40973975176908395,
          -0.020809867115512446,
          -0.020456344011944225,
          -0.020456344011944225,
          -0.015642835218065802,
          -0.020456344011944225,
          -0.015642835218065802,
          -0.09489867172397339,
          -0.01994130574845022,
          0.0006399515122798947,
          -0.0010062941462046957,
          -0.0010062941462046957,
          -0.06740209603402368,
          -0.1032970191552581,
          -0.07116618190667813,
          -0.12461282799266898,
          -0.06503432433539358,
          -0.28250814594624263,
          -0.2867148632852016,
          -0.2826459119072255,
          -0.2869188381369703,
          -0.3097677954091134,
          -0.10394686510639554,
          -0.09857391831173148,
          -0.366918428385574,
          -0.4011738145267883,
          -0.39938926503385497,
          -0.4017796226478859,
          -0.23371008677585334,
          0.13087639919677307,
          0.08322347030502215,
          0.07555957053255033,
          0.15247432560649873,
          -0.08938736653276697,
          -0.1293785732010433,
          -0.1017113263324597,
          -0.041816661019567415,
          -0.0827471926642848,
          0.03802293773328078,
          0.13156548768465542,
          0.05740057987447157,
          0.10498319003660934,
          0.03204202558807287,
          0.24632960165249246,
          0.1657785580829804,
          0.48082863081678157,
          0.5021988322585436,
          0.5222263127081072,
          0.06824824461676576,
          0.10425517610570442,
          0.12846556483632232,
          0.024666439108221676,
          -0.014905964738254432,
          -0.030372995185142342,
          -0.02577414796223678,
          0.018639345515266595,
          -0.07318466333590119,
          -0.006038824216557532,
          0.012668071224478205,
          -0.03090305623998297,
          0.4993598450697248,
          0.4975021381655278,
          0.5232513271008029,
          0.3415279592061341,
          0.15723211590161354,
          0.16992750543226512,
          0.13756523559891257,
          -0.046789628146077816,
          -0.08435277793310575,
          -0.06543223879083397,
          -0.043076809525693094,
          -0.0819362335269834,
          -0.05471891643671029,
          -0.12526286287324156,
          -0.0722692228561638,
          -0.1274444112126259,
          -0.12146823533805098,
          -0.04723604618865776,
          -0.013978605026598681,
          -0.060351754431213954,
          -0.0714367666027684,
          0.016993950612152312,
          -0.3913344145593575,
          -0.3493298632112112,
          -0.3854763802794342,
          -0.3873976599597211,
          -0.12685717292209261,
          0.2430836264812961,
          -0.16900724921743962,
          -0.15483929006255348,
          -0.1667849195494874,
          -0.16830846800390803,
          0.18166071733327804,
          0.08261834731700655,
          -0.05175843430241448,
          0.03345973399821617,
          0.27628644013086456,
          0.30392483927804326,
          0.3188735633035707,
          0.008242832623050159,
          -0.13681192875172274,
          -0.09887636464678366,
          -0.07439916697012065
         ],
         "yaxis": "y"
        }
       ],
       "layout": {
        "coloraxis": {
         "colorbar": {
          "title": {
           "text": "color"
          }
         },
         "colorscale": [
          [
           0,
           "#0d0887"
          ],
          [
           0.1111111111111111,
           "#46039f"
          ],
          [
           0.2222222222222222,
           "#7201a8"
          ],
          [
           0.3333333333333333,
           "#9c179e"
          ],
          [
           0.4444444444444444,
           "#bd3786"
          ],
          [
           0.5555555555555556,
           "#d8576b"
          ],
          [
           0.6666666666666666,
           "#ed7953"
          ],
          [
           0.7777777777777778,
           "#fb9f3a"
          ],
          [
           0.8888888888888888,
           "#fdca26"
          ],
          [
           1,
           "#f0f921"
          ]
         ]
        },
        "legend": {
         "tracegroupgap": 0
        },
        "margin": {
         "t": 60
        },
        "template": {
         "data": {
          "bar": [
           {
            "error_x": {
             "color": "#2a3f5f"
            },
            "error_y": {
             "color": "#2a3f5f"
            },
            "marker": {
             "line": {
              "color": "#E5ECF6",
              "width": 0.5
             },
             "pattern": {
              "fillmode": "overlay",
              "size": 10,
              "solidity": 0.2
             }
            },
            "type": "bar"
           }
          ],
          "barpolar": [
           {
            "marker": {
             "line": {
              "color": "#E5ECF6",
              "width": 0.5
             },
             "pattern": {
              "fillmode": "overlay",
              "size": 10,
              "solidity": 0.2
             }
            },
            "type": "barpolar"
           }
          ],
          "carpet": [
           {
            "aaxis": {
             "endlinecolor": "#2a3f5f",
             "gridcolor": "white",
             "linecolor": "white",
             "minorgridcolor": "white",
             "startlinecolor": "#2a3f5f"
            },
            "baxis": {
             "endlinecolor": "#2a3f5f",
             "gridcolor": "white",
             "linecolor": "white",
             "minorgridcolor": "white",
             "startlinecolor": "#2a3f5f"
            },
            "type": "carpet"
           }
          ],
          "choropleth": [
           {
            "colorbar": {
             "outlinewidth": 0,
             "ticks": ""
            },
            "type": "choropleth"
           }
          ],
          "contour": [
           {
            "colorbar": {
             "outlinewidth": 0,
             "ticks": ""
            },
            "colorscale": [
             [
              0,
              "#0d0887"
             ],
             [
              0.1111111111111111,
              "#46039f"
             ],
             [
              0.2222222222222222,
              "#7201a8"
             ],
             [
              0.3333333333333333,
              "#9c179e"
             ],
             [
              0.4444444444444444,
              "#bd3786"
             ],
             [
              0.5555555555555556,
              "#d8576b"
             ],
             [
              0.6666666666666666,
              "#ed7953"
             ],
             [
              0.7777777777777778,
              "#fb9f3a"
             ],
             [
              0.8888888888888888,
              "#fdca26"
             ],
             [
              1,
              "#f0f921"
             ]
            ],
            "type": "contour"
           }
          ],
          "contourcarpet": [
           {
            "colorbar": {
             "outlinewidth": 0,
             "ticks": ""
            },
            "type": "contourcarpet"
           }
          ],
          "heatmap": [
           {
            "colorbar": {
             "outlinewidth": 0,
             "ticks": ""
            },
            "colorscale": [
             [
              0,
              "#0d0887"
             ],
             [
              0.1111111111111111,
              "#46039f"
             ],
             [
              0.2222222222222222,
              "#7201a8"
             ],
             [
              0.3333333333333333,
              "#9c179e"
             ],
             [
              0.4444444444444444,
              "#bd3786"
             ],
             [
              0.5555555555555556,
              "#d8576b"
             ],
             [
              0.6666666666666666,
              "#ed7953"
             ],
             [
              0.7777777777777778,
              "#fb9f3a"
             ],
             [
              0.8888888888888888,
              "#fdca26"
             ],
             [
              1,
              "#f0f921"
             ]
            ],
            "type": "heatmap"
           }
          ],
          "heatmapgl": [
           {
            "colorbar": {
             "outlinewidth": 0,
             "ticks": ""
            },
            "colorscale": [
             [
              0,
              "#0d0887"
             ],
             [
              0.1111111111111111,
              "#46039f"
             ],
             [
              0.2222222222222222,
              "#7201a8"
             ],
             [
              0.3333333333333333,
              "#9c179e"
             ],
             [
              0.4444444444444444,
              "#bd3786"
             ],
             [
              0.5555555555555556,
              "#d8576b"
             ],
             [
              0.6666666666666666,
              "#ed7953"
             ],
             [
              0.7777777777777778,
              "#fb9f3a"
             ],
             [
              0.8888888888888888,
              "#fdca26"
             ],
             [
              1,
              "#f0f921"
             ]
            ],
            "type": "heatmapgl"
           }
          ],
          "histogram": [
           {
            "marker": {
             "pattern": {
              "fillmode": "overlay",
              "size": 10,
              "solidity": 0.2
             }
            },
            "type": "histogram"
           }
          ],
          "histogram2d": [
           {
            "colorbar": {
             "outlinewidth": 0,
             "ticks": ""
            },
            "colorscale": [
             [
              0,
              "#0d0887"
             ],
             [
              0.1111111111111111,
              "#46039f"
             ],
             [
              0.2222222222222222,
              "#7201a8"
             ],
             [
              0.3333333333333333,
              "#9c179e"
             ],
             [
              0.4444444444444444,
              "#bd3786"
             ],
             [
              0.5555555555555556,
              "#d8576b"
             ],
             [
              0.6666666666666666,
              "#ed7953"
             ],
             [
              0.7777777777777778,
              "#fb9f3a"
             ],
             [
              0.8888888888888888,
              "#fdca26"
             ],
             [
              1,
              "#f0f921"
             ]
            ],
            "type": "histogram2d"
           }
          ],
          "histogram2dcontour": [
           {
            "colorbar": {
             "outlinewidth": 0,
             "ticks": ""
            },
            "colorscale": [
             [
              0,
              "#0d0887"
             ],
             [
              0.1111111111111111,
              "#46039f"
             ],
             [
              0.2222222222222222,
              "#7201a8"
             ],
             [
              0.3333333333333333,
              "#9c179e"
             ],
             [
              0.4444444444444444,
              "#bd3786"
             ],
             [
              0.5555555555555556,
              "#d8576b"
             ],
             [
              0.6666666666666666,
              "#ed7953"
             ],
             [
              0.7777777777777778,
              "#fb9f3a"
             ],
             [
              0.8888888888888888,
              "#fdca26"
             ],
             [
              1,
              "#f0f921"
             ]
            ],
            "type": "histogram2dcontour"
           }
          ],
          "mesh3d": [
           {
            "colorbar": {
             "outlinewidth": 0,
             "ticks": ""
            },
            "type": "mesh3d"
           }
          ],
          "parcoords": [
           {
            "line": {
             "colorbar": {
              "outlinewidth": 0,
              "ticks": ""
             }
            },
            "type": "parcoords"
           }
          ],
          "pie": [
           {
            "automargin": true,
            "type": "pie"
           }
          ],
          "scatter": [
           {
            "fillpattern": {
             "fillmode": "overlay",
             "size": 10,
             "solidity": 0.2
            },
            "type": "scatter"
           }
          ],
          "scatter3d": [
           {
            "line": {
             "colorbar": {
              "outlinewidth": 0,
              "ticks": ""
             }
            },
            "marker": {
             "colorbar": {
              "outlinewidth": 0,
              "ticks": ""
             }
            },
            "type": "scatter3d"
           }
          ],
          "scattercarpet": [
           {
            "marker": {
             "colorbar": {
              "outlinewidth": 0,
              "ticks": ""
             }
            },
            "type": "scattercarpet"
           }
          ],
          "scattergeo": [
           {
            "marker": {
             "colorbar": {
              "outlinewidth": 0,
              "ticks": ""
             }
            },
            "type": "scattergeo"
           }
          ],
          "scattergl": [
           {
            "marker": {
             "colorbar": {
              "outlinewidth": 0,
              "ticks": ""
             }
            },
            "type": "scattergl"
           }
          ],
          "scattermapbox": [
           {
            "marker": {
             "colorbar": {
              "outlinewidth": 0,
              "ticks": ""
             }
            },
            "type": "scattermapbox"
           }
          ],
          "scatterpolar": [
           {
            "marker": {
             "colorbar": {
              "outlinewidth": 0,
              "ticks": ""
             }
            },
            "type": "scatterpolar"
           }
          ],
          "scatterpolargl": [
           {
            "marker": {
             "colorbar": {
              "outlinewidth": 0,
              "ticks": ""
             }
            },
            "type": "scatterpolargl"
           }
          ],
          "scatterternary": [
           {
            "marker": {
             "colorbar": {
              "outlinewidth": 0,
              "ticks": ""
             }
            },
            "type": "scatterternary"
           }
          ],
          "surface": [
           {
            "colorbar": {
             "outlinewidth": 0,
             "ticks": ""
            },
            "colorscale": [
             [
              0,
              "#0d0887"
             ],
             [
              0.1111111111111111,
              "#46039f"
             ],
             [
              0.2222222222222222,
              "#7201a8"
             ],
             [
              0.3333333333333333,
              "#9c179e"
             ],
             [
              0.4444444444444444,
              "#bd3786"
             ],
             [
              0.5555555555555556,
              "#d8576b"
             ],
             [
              0.6666666666666666,
              "#ed7953"
             ],
             [
              0.7777777777777778,
              "#fb9f3a"
             ],
             [
              0.8888888888888888,
              "#fdca26"
             ],
             [
              1,
              "#f0f921"
             ]
            ],
            "type": "surface"
           }
          ],
          "table": [
           {
            "cells": {
             "fill": {
              "color": "#EBF0F8"
             },
             "line": {
              "color": "white"
             }
            },
            "header": {
             "fill": {
              "color": "#C8D4E3"
             },
             "line": {
              "color": "white"
             }
            },
            "type": "table"
           }
          ]
         },
         "layout": {
          "annotationdefaults": {
           "arrowcolor": "#2a3f5f",
           "arrowhead": 0,
           "arrowwidth": 1
          },
          "autotypenumbers": "strict",
          "coloraxis": {
           "colorbar": {
            "outlinewidth": 0,
            "ticks": ""
           }
          },
          "colorscale": {
           "diverging": [
            [
             0,
             "#8e0152"
            ],
            [
             0.1,
             "#c51b7d"
            ],
            [
             0.2,
             "#de77ae"
            ],
            [
             0.3,
             "#f1b6da"
            ],
            [
             0.4,
             "#fde0ef"
            ],
            [
             0.5,
             "#f7f7f7"
            ],
            [
             0.6,
             "#e6f5d0"
            ],
            [
             0.7,
             "#b8e186"
            ],
            [
             0.8,
             "#7fbc41"
            ],
            [
             0.9,
             "#4d9221"
            ],
            [
             1,
             "#276419"
            ]
           ],
           "sequential": [
            [
             0,
             "#0d0887"
            ],
            [
             0.1111111111111111,
             "#46039f"
            ],
            [
             0.2222222222222222,
             "#7201a8"
            ],
            [
             0.3333333333333333,
             "#9c179e"
            ],
            [
             0.4444444444444444,
             "#bd3786"
            ],
            [
             0.5555555555555556,
             "#d8576b"
            ],
            [
             0.6666666666666666,
             "#ed7953"
            ],
            [
             0.7777777777777778,
             "#fb9f3a"
            ],
            [
             0.8888888888888888,
             "#fdca26"
            ],
            [
             1,
             "#f0f921"
            ]
           ],
           "sequentialminus": [
            [
             0,
             "#0d0887"
            ],
            [
             0.1111111111111111,
             "#46039f"
            ],
            [
             0.2222222222222222,
             "#7201a8"
            ],
            [
             0.3333333333333333,
             "#9c179e"
            ],
            [
             0.4444444444444444,
             "#bd3786"
            ],
            [
             0.5555555555555556,
             "#d8576b"
            ],
            [
             0.6666666666666666,
             "#ed7953"
            ],
            [
             0.7777777777777778,
             "#fb9f3a"
            ],
            [
             0.8888888888888888,
             "#fdca26"
            ],
            [
             1,
             "#f0f921"
            ]
           ]
          },
          "colorway": [
           "#636efa",
           "#EF553B",
           "#00cc96",
           "#ab63fa",
           "#FFA15A",
           "#19d3f3",
           "#FF6692",
           "#B6E880",
           "#FF97FF",
           "#FECB52"
          ],
          "font": {
           "color": "#2a3f5f"
          },
          "geo": {
           "bgcolor": "white",
           "lakecolor": "white",
           "landcolor": "#E5ECF6",
           "showlakes": true,
           "showland": true,
           "subunitcolor": "white"
          },
          "hoverlabel": {
           "align": "left"
          },
          "hovermode": "closest",
          "mapbox": {
           "style": "light"
          },
          "paper_bgcolor": "white",
          "plot_bgcolor": "#E5ECF6",
          "polar": {
           "angularaxis": {
            "gridcolor": "white",
            "linecolor": "white",
            "ticks": ""
           },
           "bgcolor": "#E5ECF6",
           "radialaxis": {
            "gridcolor": "white",
            "linecolor": "white",
            "ticks": ""
           }
          },
          "scene": {
           "xaxis": {
            "backgroundcolor": "#E5ECF6",
            "gridcolor": "white",
            "gridwidth": 2,
            "linecolor": "white",
            "showbackground": true,
            "ticks": "",
            "zerolinecolor": "white"
           },
           "yaxis": {
            "backgroundcolor": "#E5ECF6",
            "gridcolor": "white",
            "gridwidth": 2,
            "linecolor": "white",
            "showbackground": true,
            "ticks": "",
            "zerolinecolor": "white"
           },
           "zaxis": {
            "backgroundcolor": "#E5ECF6",
            "gridcolor": "white",
            "gridwidth": 2,
            "linecolor": "white",
            "showbackground": true,
            "ticks": "",
            "zerolinecolor": "white"
           }
          },
          "shapedefaults": {
           "line": {
            "color": "#2a3f5f"
           }
          },
          "ternary": {
           "aaxis": {
            "gridcolor": "white",
            "linecolor": "white",
            "ticks": ""
           },
           "baxis": {
            "gridcolor": "white",
            "linecolor": "white",
            "ticks": ""
           },
           "bgcolor": "#E5ECF6",
           "caxis": {
            "gridcolor": "white",
            "linecolor": "white",
            "ticks": ""
           }
          },
          "title": {
           "x": 0.05
          },
          "xaxis": {
           "automargin": true,
           "gridcolor": "white",
           "linecolor": "white",
           "ticks": "",
           "title": {
            "standoff": 15
           },
           "zerolinecolor": "white",
           "zerolinewidth": 2
          },
          "yaxis": {
           "automargin": true,
           "gridcolor": "white",
           "linecolor": "white",
           "ticks": "",
           "title": {
            "standoff": 15
           },
           "zerolinecolor": "white",
           "zerolinewidth": 2
          }
         }
        },
        "xaxis": {
         "anchor": "y",
         "domain": [
          0,
          1
         ],
         "title": {
          "text": "0"
         }
        },
        "yaxis": {
         "anchor": "x",
         "domain": [
          0,
          1
         ],
         "title": {
          "text": "1"
         }
        }
       }
      }
     },
     "metadata": {},
     "output_type": "display_data"
    },
    {
     "data": {
      "image/png": "[encoded data removed]",
      "text/plain": [
       "<Figure size 640x480 with 1 Axes>"
      ]
     },
     "metadata": {},
     "output_type": "display_data"
    }
   ],
   "source": [
    "X = tfidf_w_question.drop(columns=[\"Question\",\"processed_question\",\"op_id\"])\n",
    "pca = PCA(n_components=2)\n",
    "X_r = pca.fit_transform(X)\n",
    "X_r = pd.DataFrame(X_r)\n",
    "X_r.columns=[\"pca1\",\"pca2\"]\n",
    "X_r[\"op_id\"] = tfidf_w_question[\"op_id\"]\n",
    "sns.scatterplot(data=X_r,x=\"pca1\",y=\"pca2\",hue=\"op_id\")\n",
    "fig.show()"
   ]
  },
  {
   "cell_type": "code",
   "execution_count": null,
   "metadata": {},
   "outputs": [],
   "source": [
    "model = LinearSVC()"
   ]
  }
 ],
 "metadata": {
  "kernelspec": {
   "display_name": "Python 3.9.13 ('torch')",
   "language": "python",
   "name": "python3"
  },
  "language_info": {
   "codemirror_mode": {
    "name": "ipython",
    "version": 3
   },
   "file_extension": ".py",
   "mimetype": "text/x-python",
   "name": "python",
   "nbconvert_exporter": "python",
   "pygments_lexer": "ipython3",
   "version": "3.9.13"
  },
  "orig_nbformat": 4,
  "vscode": {
   "interpreter": {
    "hash": "826053bd674bbf40aaf90a661da74bbf0d2673b0e277479e4b77948c64f16caa"
   }
  }
 },
 "nbformat": 4,
 "nbformat_minor": 2
}
