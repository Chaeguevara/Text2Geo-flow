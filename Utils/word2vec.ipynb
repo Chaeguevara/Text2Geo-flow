{
 "cells": [
  {
   "cell_type": "code",
   "execution_count": 22,
   "metadata": {},
   "outputs": [
    {
     "name": "stdout",
     "output_type": "stream",
     "text": [
      "['fasttext-wiki-news-subwords-300', 'conceptnet-numberbatch-17-06-300', 'word2vec-ruscorpora-300', 'word2vec-google-news-300', 'glove-wiki-gigaword-50', 'glove-wiki-gigaword-100', 'glove-wiki-gigaword-200', 'glove-wiki-gigaword-300', 'glove-twitter-25', 'glove-twitter-50', 'glove-twitter-100', 'glove-twitter-200', '__testing_word2vec-matrix-synopsis']\n"
     ]
    }
   ],
   "source": [
    "import gensim.downloader\n",
    "print(list(gensim.downloader.info()['models'].keys()))\n",
    "glove_vectors = gensim.downloader.load('glove-wiki-gigaword-300')\n"
   ]
  },
  {
   "cell_type": "code",
   "execution_count": 23,
   "metadata": {},
   "outputs": [
    {
     "data": {
      "text/plain": [
       "0.3663531541824341"
      ]
     },
     "execution_count": 23,
     "metadata": {},
     "output_type": "execute_result"
    }
   ],
   "source": [
    "glove_vectors.distance(\"king\",\"queen\")\n",
    "# glove_vectors.most_similar(\"knee\")"
   ]
  },
  {
   "cell_type": "code",
   "execution_count": 24,
   "metadata": {},
   "outputs": [
    {
     "data": {
      "text/plain": [
       "[('rome', 0.6712608337402344),\n",
       " ('italian', 0.6303600072860718),\n",
       " ('turin', 0.5971688032150269),\n",
       " ('milan', 0.5739628076553345),\n",
       " ('naples', 0.5335968136787415),\n",
       " ('genoa', 0.5014036297798157),\n",
       " ('bologna', 0.4821914732456207),\n",
       " ('brussels', 0.4806712567806244),\n",
       " ('berlusconi', 0.4762674570083618),\n",
       " ('florence', 0.47375622391700745)]"
      ]
     },
     "execution_count": 24,
     "metadata": {},
     "output_type": "execute_result"
    }
   ],
   "source": [
    "glove_vectors.most_similar(positive=['seoul', 'italy'], negative=['korea'])"
   ]
  },
  {
   "cell_type": "code",
   "execution_count": 25,
   "metadata": {},
   "outputs": [
    {
     "data": {
      "text/plain": [
       "[('king', 0.6552621126174927),\n",
       " ('ii', 0.5050469040870667),\n",
       " ('prince', 0.4914787709712982),\n",
       " ('majesty', 0.48908838629722595),\n",
       " ('monarch', 0.47834309935569763),\n",
       " ('royal', 0.46305179595947266),\n",
       " ('elizabeth', 0.45092126727104187),\n",
       " ('vi', 0.44612547755241394),\n",
       " ('crown', 0.4368758201599121),\n",
       " ('brother', 0.4366149306297302)]"
      ]
     },
     "execution_count": 25,
     "metadata": {},
     "output_type": "execute_result"
    }
   ],
   "source": [
    "glove_vectors.most_similar(positive=['queen', 'man'], negative=['woman'])"
   ]
  },
  {
   "cell_type": "code",
   "execution_count": 27,
   "metadata": {},
   "outputs": [
    {
     "data": {
      "text/plain": [
       "[('carolina', 0.4053281545639038),\n",
       " ('utah', 0.4005163311958313),\n",
       " ('tucson', 0.39452362060546875),\n",
       " ('dakota', 0.38302597403526306),\n",
       " ('ariz.', 0.3701401948928833),\n",
       " ('kansas', 0.3691098392009735),\n",
       " ('colorado', 0.3687409460544586),\n",
       " ('south', 0.361331045627594),\n",
       " ('north', 0.35865211486816406),\n",
       " ('korean', 0.3550717830657959)]"
      ]
     },
     "execution_count": 27,
     "metadata": {},
     "output_type": "execute_result"
    }
   ],
   "source": [
    "glove_vectors.most_similar(positive=['arizona', 'korea'], negative=['us'])"
   ]
  }
 ],
 "metadata": {
  "kernelspec": {
   "display_name": "Python 3.7.13",
   "language": "python",
   "name": "python3"
  },
  "language_info": {
   "codemirror_mode": {
    "name": "ipython",
    "version": 3
   },
   "file_extension": ".py",
   "mimetype": "text/x-python",
   "name": "python",
   "nbconvert_exporter": "python",
   "pygments_lexer": "ipython3",
   "version": "3.7.13"
  },
  "orig_nbformat": 4,
  "vscode": {
   "interpreter": {
    "hash": "8daa4c6f18e774ef8e05b5803f0829e010aab5822423168a090ae0e5dcb5599a"
   }
  }
 },
 "nbformat": 4,
 "nbformat_minor": 2
}
