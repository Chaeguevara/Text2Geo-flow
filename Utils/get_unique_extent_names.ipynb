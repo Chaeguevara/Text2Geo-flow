{
 "cells": [
  {
   "cell_type": "code",
   "execution_count": 11,
   "metadata": {},
   "outputs": [],
   "source": [
    "import pandas as pd\n",
    "import json"
   ]
  },
  {
   "cell_type": "code",
   "execution_count": 12,
   "metadata": {},
   "outputs": [],
   "source": [
    "def path_2_df(path):\n",
    "    input_file = open(path)\n",
    "    json_array = json.load(input_file)\n",
    "    json_to_df = pd.json_normalize(json_array)\n",
    "    return json_to_df"
   ]
  },
  {
   "cell_type": "code",
   "execution_count": 36,
   "metadata": {},
   "outputs": [
    {
     "name": "stdout",
     "output_type": "stream",
     "text": [
      "[{'Africa': ''}, {'Assam': ''}, {'California': ''}, {'Cape Peninsula': ''}, {'Chernobyl nuclear power plant': ''}, {'Colorado': ''}, {'Connecticut': ''}, {'Crook': ''}, {'Crook county': ''}, {'Deschutes': ''}, {'Deschutes county': ''}, {'El Cajon': ''}, {'Florida': ''}, {'Great Britain': ''}, {'Gresham': ''}, {'Hillsboro': ''}, {'India': ''}, {'Italy': ''}, {'Jefferson county': ''}, {'Kochi': ''}, {'Los Angeles': ''}, {'Loudoun County': ''}, {'Melbourne': ''}, {'New York City': ''}, {'Norway': ''}, {'Ottawa': ''}, {'Palm city': ''}, {'Paris': ''}, {'Pasadena': ''}, {'Poway': ''}, {'San Diego': ''}, {'San Francisco': ''}, {'San Francisco Bay Area': ''}, {'San Francisco Bay area': ''}, {'Scotland': ''}, {'Seattle': ''}, {'Stowe': ''}, {'Surrey': ''}, {'Swellendam': ''}, {'UK': ''}, {'US': ''}, {'USA': ''}, {'United State': ''}, {'United States of America': ''}, {'Utrecht': ''}, {'Vermont': ''}, {'Washington DC': ''}, {'globe': ''}, {'world': ''}]\n"
     ]
    }
   ],
   "source": [
    "path_1=\"./Results_test_Manual.json\"\n",
    "\n",
    "df = path_2_df(path_1)\n",
    "extent_frame=df[\"cctrans.extent\"].apply(pd.Series) # list to each element\n",
    "extent_frame.columns=[\"Extent\",\"Extent\",\"Extent\"]\n",
    "extent1 = extent_frame.iloc[:,0].to_frame()\n",
    "extent2 = extent_frame.iloc[:,1].to_frame()\n",
    "extent3 = extent_frame.iloc[:,2].to_frame()\n",
    "un_1 = extent1[\"Extent\"].unique()\n",
    "un_2 = extent2[\"Extent\"].unique()\n",
    "un_3 = extent3[\"Extent\"].unique()\n",
    "unique_set = set(un_1.flatten())\n",
    "unique_set = unique_set .union(set(un_2.flatten()),set(un_3.flatten())) \n",
    "unique_set = {x for x in unique_set if x==x}\n",
    "unique_list = list(unique_set)\n",
    "unique_list.sort()\n",
    "con_2_cor = []\n",
    "for item in unique_list:\n",
    "    con_2_cor.append({item:\"\"})\n",
    "    \n",
    "\n",
    "print(con_2_cor)"
   ]
  },
  {
   "cell_type": "code",
   "execution_count": 38,
   "metadata": {},
   "outputs": [],
   "source": [
    "res = json.dumps(con_2_cor)\n",
    "with open(\"./Unique_extent_from_origin.json\", \"w\") as f:\n",
    "    f.write(res)"
   ]
  }
 ],
 "metadata": {
  "kernelspec": {
   "display_name": "Python 3.7.13",
   "language": "python",
   "name": "python3"
  },
  "language_info": {
   "codemirror_mode": {
    "name": "ipython",
    "version": 3
   },
   "file_extension": ".py",
   "mimetype": "text/x-python",
   "name": "python",
   "nbconvert_exporter": "python",
   "pygments_lexer": "ipython3",
   "version": "3.7.13"
  },
  "orig_nbformat": 4,
  "vscode": {
   "interpreter": {
    "hash": "8daa4c6f18e774ef8e05b5803f0829e010aab5822423168a090ae0e5dcb5599a"
   }
  }
 },
 "nbformat": 4,
 "nbformat_minor": 2
}
